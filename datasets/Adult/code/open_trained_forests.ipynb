{
 "cells": [
  {
   "cell_type": "markdown",
   "metadata": {},
   "source": [
    "# [Adult] -- Open Trained Forest Models & Plot"
   ]
  },
  {
   "cell_type": "code",
   "execution_count": 28,
   "metadata": {},
   "outputs": [
    {
     "name": "stdout",
     "output_type": "stream",
     "text": [
      "The autoreload extension is already loaded. To reload it, use:\n",
      "  %reload_ext autoreload\n"
     ]
    }
   ],
   "source": [
    "%load_ext autoreload\n",
    "%autoreload 2"
   ]
  },
  {
   "cell_type": "code",
   "execution_count": 61,
   "metadata": {},
   "outputs": [],
   "source": [
    "import sys\n",
    "# cwd = '/home/ec2-user/SageMaker/imputation-fairness/data/Adult/code'\n",
    "cwd = '../../../core'\n",
    "sys.path.append(cwd)\n",
    "\n",
    "import numpy as np\n",
    "import pandas as pd\n",
    "import scipy\n",
    "import matplotlib.pyplot as plt\n",
    "import seaborn as sns\n",
    "%matplotlib inline\n",
    "\n",
    "from load_adult import * \n",
    "from treeutils import *\n",
    "from missing_module import * \n",
    "\n",
    "pd.set_option('display.max_rows', None)\n",
    "pd.set_option('display.max_columns', None)\n",
    "pd.set_option('display.max_colwidth', None)\n",
    "pd.set_option('display.width', None)\n",
    "pd.set_option('display.max_colwidth', None)\n",
    "np.set_printoptions(threshold=np.inf)\n",
    "\n",
    "from sklearn.linear_model import LogisticRegression\n",
    "from sklearn.tree import DecisionTreeClassifier\n",
    "\n",
    "from sklearn.model_selection import train_test_split, KFold\n",
    "from sklearn.preprocessing import MinMaxScaler, StandardScaler, RobustScaler, MaxAbsScaler\n",
    "from sklearn.metrics import confusion_matrix, accuracy_score\n",
    "from sklearn.impute import KNNImputer, SimpleImputer\n",
    "\n",
    "\n",
    "from IPython.display import display, HTML\n",
    "\n",
    "from itertools import combinations\n"
   ]
  },
  {
   "cell_type": "markdown",
   "metadata": {},
   "source": [
    "## Load Data"
   ]
  },
  {
   "cell_type": "code",
   "execution_count": 63,
   "metadata": {},
   "outputs": [],
   "source": [
    "### Loading Data ### \n",
    "\n",
    "filename = 'pkl_data/adult_ms.pkl'\n",
    "\n",
    "with open(filename, 'rb') as handle: \n",
    "    data = pickle.load(handle)\n",
    "    \n",
    "X_orig = data['X']\n",
    "y_orig = data['y']\n",
    "m_orig = data['m']\n",
    "S_orig = data['S']\n"
   ]
  },
  {
   "cell_type": "markdown",
   "metadata": {},
   "source": [
    "<br/>\n",
    "\n",
    "## Open Forest Files & Get Performance Metrics"
   ]
  },
  {
   "cell_type": "code",
   "execution_count": 64,
   "metadata": {
    "tags": []
   },
   "outputs": [],
   "source": [
    "lambda_list1 = [0.1, 0.5, 0.8, 2.0]\n",
    "lambda_list2 = [0.14, 0.17]\n",
    "lambda_list = sorted(lambda_list1+lambda_list2)\n",
    "batch_size = 200\n",
    "fair = 'fpr'\n",
    "num_tree = 30\n",
    "D=3\n",
    "\n",
    "\n",
    "ens_acc_mean, ens_acc_std = [], []\n",
    "ens_fr_mean, ens_fr_std = [], []\n",
    "\n",
    "\n",
    "for lambd in lambda_list:\n",
    "    acc_list = []\n",
    "    fr_list = []\n",
    "\n",
    "    for seed in range(1, 11):\n",
    "        if lambd in lambda_list1:\n",
    "            output_file = 'forests/d3trees_seed{}/{}_L{:.1f}_N{}_b{}.pkl'.format(seed, fair, lambd, num_tree, batch_size)\n",
    "        else: \n",
    "            output_file = 'forests/d3trees_seed{}/{}_L{:.2f}_N{}_b{}.pkl'.format(seed, fair, lambd, num_tree, batch_size)\n",
    "\n",
    "        with open(output_file, 'rb') as handle: \n",
    "            sol_trees = pickle.load(handle)\n",
    "\n",
    "        forest = sol_to_forest(sol_trees, D)\n",
    "        \n",
    "        X_train, X_test, y_train, y_test, m_train, m_test, S_train, S_test = train_test_split(X_orig, y_orig, m_orig, S_orig, test_size=0.3, random_state=seed)\n",
    "        \n",
    "        X_test_temp = np.nan_to_num(X_test, nan=-999) # Filling in dummy values temporarily\n",
    "        y_hat = forest.predict(X_test_temp, m_test)\n",
    "        ens_acc = binary_score(y_test, y_hat)\n",
    "        ens_fr = np.abs(binary_score(y_test[S_test==0], y_hat[S_test==0], fair) \n",
    "                        - binary_score(y_test[S_test==1], y_hat[S_test==1], fair))\n",
    "\n",
    "        acc_list.append(ens_acc)\n",
    "        fr_list.append(ens_fr)\n",
    "\n",
    "    ens_acc_mean.append(np.mean(acc_list)) \n",
    "    ens_acc_std.append(np.std(acc_list))\n",
    "    ens_fr_mean.append(np.mean(fr_list)) \n",
    "    ens_fr_std.append(np.std(fr_list))\n",
    "\n"
   ]
  },
  {
   "cell_type": "markdown",
   "metadata": {},
   "source": [
    "<br/>\n",
    "\n",
    "### Plot the Result"
   ]
  },
  {
   "cell_type": "code",
   "execution_count": 65,
   "metadata": {},
   "outputs": [
    {
     "data": {
      "image/png": "[encoded data removed]",
      "text/plain": [
       "<Figure size 432x288 with 1 Axes>"
      ]
     },
     "metadata": {
      "needs_background": "light"
     },
     "output_type": "display_data"
    }
   ],
   "source": [
    "\n",
    "plt.scatter(ens_fr_mean, ens_acc_mean, color='blue')\n",
    "\n",
    "annotations = [str(x) for x in lambda_list]\n",
    "for i, label in enumerate(annotations):\n",
    "    plt.annotate(label, (ens_fr_mean[i], ens_acc_mean[i]))\n"
   ]
  },
  {
   "cell_type": "markdown",
   "metadata": {},
   "source": [
    "## Save the Fair MIP Forest Result"
   ]
  },
  {
   "cell_type": "code",
   "execution_count": 66,
   "metadata": {},
   "outputs": [],
   "source": [
    "C = np.sqrt(10)\n",
    "ens_acc_se, ens_fr_se = ens_acc_std/C, ens_fr_std/C\n",
    "\n",
    "with open('results/fair_mip_result3.pkl', 'wb+') as f: \n",
    "    pickle.dump({'fr_mean': ens_fr_mean, 'fr_se': ens_fr_se, \n",
    "                 'acc_mean': ens_acc_mean, 'acc_se': ens_acc_se, \n",
    "                'lambda':lambda_list}, f)"
   ]
  },
  {
   "cell_type": "markdown",
   "metadata": {},
   "source": [
    "## Plotting With Other Baselines"
   ]
  },
  {
   "cell_type": "markdown",
   "metadata": {},
   "source": [
    "### Get the Baseline Results"
   ]
  },
  {
   "cell_type": "markdown",
   "metadata": {},
   "source": [
    "#### 1. Baseline -- Mean Imputation\n"
   ]
  },
  {
   "cell_type": "code",
   "execution_count": 85,
   "metadata": {},
   "outputs": [
    {
     "name": "stdout",
     "output_type": "stream",
     "text": [
      "0.8073160357294769 0.10672750351641566\n",
      "0.8102934921310081 0.0963189107625364\n",
      "0.8043385793279455 0.10158594576970148\n",
      "0.8136962994470438 0.3970766303407715\n",
      "0.8102934921310081 0.4058893954045218\n",
      "0.8132709485325393 0.396782602569221\n",
      "0.8085920884729902 0.13085966794734233\n",
      "0.8081667375584858 0.40125152625152627\n",
      "0.8043385793279455 0.09314186737822717\n",
      "0.8230540195661421 0.0859211849767037\n"
     ]
    }
   ],
   "source": [
    "mean_acc_list = []\n",
    "mean_fr_list =[]\n",
    "for seed in range(1, 11):\n",
    "    X_train, X_test, y_train, y_test, m_train, m_test, S_train, S_test = train_test_split(X_orig, y_orig, m_orig, S_orig, test_size=0.3, random_state=seed)\n",
    "    imp_mean = SimpleImputer(strategy='mean')\n",
    "    imp_mean.fit(X_train)\n",
    "    X_train_imp = imp_mean.transform(X_train)\n",
    "    X_test_imp = imp_mean.transform(X_test)\n",
    "    base_tree = DecisionTreeClassifier(max_depth=3)\n",
    "    base_tree.fit(X_train_imp, y_train)\n",
    "    base_acc = binary_score(y_test, base_tree.predict(X_test_imp))\n",
    "    mean_acc_list.append(base_acc)\n",
    "\n",
    "    base_fr = np.abs(binary_score(y_test[S_test==0], base_tree.predict(X_test_imp[S_test==0]), metric=fair)\n",
    "                 -binary_score(y_test[S_test==1], base_tree.predict(X_test_imp[S_test==1]), metric=fair))\n",
    "    mean_fr_list.append(base_fr)\n",
    "\n",
    "    print(base_acc, base_fr)\n",
    "\n",
    "C = np.sqrt(10)\n",
    "mean_fr_mean = np.mean(mean_fr_list)\n",
    "mean_acc_mean = np.mean(mean_acc_list)\n",
    "mean_fr_se = np.std(mean_fr_list)/C\n",
    "mean_acc_se = np.std(mean_acc_list)/C"
   ]
  },
  {
   "cell_type": "markdown",
   "metadata": {},
   "source": [
    "#### 2. Baseline -- KNN Imputation\n"
   ]
  },
  {
   "cell_type": "code",
   "execution_count": 80,
   "metadata": {},
   "outputs": [
    {
     "name": "stdout",
     "output_type": "stream",
     "text": [
      "0.7898766482347938 0.463880979336055\n",
      "0.792854104636325 0.1616521037302172\n",
      "0.7894512973202893 0.42579900025946416\n",
      "0.8034878774989366 0.45351150320013833\n",
      "0.7941301573798384 0.4509669843901092\n",
      "0.8051892811569545 0.4322138982175148\n",
      "0.7949808592088473 0.4395001903707037\n",
      "0.7915780518928116 0.4269879426129426\n",
      "0.8005104210974053 0.3632469629941718\n",
      "0.8034878774989366 0.39962518436328703\n"
     ]
    }
   ],
   "source": [
    "knn_acc_list = []\n",
    "knn_fr_list =[]\n",
    "for seed in range(1, 11):\n",
    "    X_train, X_test, y_train, y_test, m_train, m_test, S_train, S_test = train_test_split(X_orig, y_orig, m_orig, S_orig, test_size=0.3, random_state=seed)\n",
    "    imp_knn = KNNImputer()\n",
    "    imp_knn.fit(X_train)\n",
    "    X_train_imp = imp_knn.transform(X_train)\n",
    "    X_test_imp = imp_knn.transform(X_test)\n",
    "    base_tree = DecisionTreeClassifier(max_depth=3)\n",
    "    base_tree.fit(X_train_imp, y_train)\n",
    "    base_acc = binary_score(y_test, base_tree.predict(X_test_imp))\n",
    "    knn_acc_list.append(base_acc)\n",
    "\n",
    "    base_fr = np.abs(binary_score(y_test[S_test==0], base_tree.predict(X_test_imp[S_test==0]), metric=fair)\n",
    "                 -binary_score(y_test[S_test==1], base_tree.predict(X_test_imp[S_test==1]), metric=fair))\n",
    "    knn_fr_list.append(base_fr)\n",
    "\n",
    "    print(base_acc, base_fr)\n",
    "\n",
    "C = np.sqrt(10)\n",
    "knn_fr_mean = np.mean(knn_fr_list)\n",
    "knn_acc_mean = np.mean(knn_acc_list)\n",
    "knn_fr_se = np.std(knn_fr_list)/C\n",
    "knn_acc_se = np.std(knn_acc_list)/C"
   ]
  },
  {
   "cell_type": "code",
   "execution_count": 83,
   "metadata": {},
   "outputs": [
    {
     "data": {
      "text/plain": [
       "0.7965546575925139"
      ]
     },
     "execution_count": 83,
     "metadata": {},
     "output_type": "execute_result"
    }
   ],
   "source": [
    "mean_acc_mean"
   ]
  },
  {
   "cell_type": "code",
   "execution_count": 84,
   "metadata": {},
   "outputs": [
    {
     "data": {
      "text/plain": [
       "0.7965546575925139"
      ]
     },
     "execution_count": 84,
     "metadata": {},
     "output_type": "execute_result"
    }
   ],
   "source": [
    "knn_acc_mean"
   ]
  },
  {
   "cell_type": "markdown",
   "metadata": {},
   "source": [
    "### Open Results Files"
   ]
  },
  {
   "cell_type": "code",
   "execution_count": 76,
   "metadata": {},
   "outputs": [],
   "source": [
    "mip_result = pickle.load(open('results/fair_mip_result3.pkl', 'rb'))\n",
    "exp_result = pickle.load(open('results/mean_exp_grad_result.pkl', 'rb'))\n",
    "knn_exp_result = pickle.load(open('results/knn_exp_grad_result.pkl', 'rb'))\n",
    "disp_mis_result = pickle.load(open('results/mean_disp_mistrtment_result.pkl', 'rb'))\n",
    "knn_disp_mis_result = pickle.load(open('results/knn_disp_mistrtment_result.pkl', 'rb'))\n",
    "eqodds_result = pickle.load(open('results/mean_eqodds_result.pkl', 'rb'))\n",
    "knn_eqodds_result = pickle.load(open('results/knn_eqodds_result.pkl', 'rb'))\n",
    "\n",
    "## Convert standard deviation to standard error ## \n",
    "exp_result['acc_se'], exp_result['fr_se']  = exp_result['fr_std']/C, exp_result['acc_std']/C\n",
    "knn_exp_result['acc_se'], knn_exp_result['fr_se']  = knn_exp_result['fr_std']/C, knn_exp_result['acc_std']/C\n",
    "disp_mis_result['acc_se'], disp_mis_result['fr_se']  = disp_mis_result['fr_std']/C, disp_mis_result['acc_std']/C\n",
    "knn_disp_mis_result['acc_se'], knn_disp_mis_result['fr_se']  = knn_disp_mis_result['fr_std']/C, knn_disp_mis_result['acc_std']/C\n",
    "eqodds_result['acc_se'], eqodds_result['fr_se']  = eqodds_result['fr_std']/C, eqodds_result['acc_std']/C\n",
    "knn_eqodds_result['acc_se'], knn_eqodds_result['fr_se']  = knn_eqodds_result['fr_std']/C, knn_eqodds_result['acc_std']/C"
   ]
  },
  {
   "cell_type": "code",
   "execution_count": 87,
   "metadata": {},
   "outputs": [
    {
     "data": {
      "text/plain": [
       "Text(0.5, 1.0, 'Adult')"
      ]
     },
     "execution_count": 87,
     "metadata": {},
     "output_type": "execute_result"
    },
    {
     "data": {
      "image/png": "[encoded data removed]",
      "text/plain": [
       "<Figure size 576x396 with 1 Axes>"
      ]
     },
     "metadata": {
      "needs_background": "light"
     },
     "output_type": "display_data"
    }
   ],
   "source": [
    "plt.figure(figsize=(8,5.5))\n",
    "\n",
    "\n",
    "plt.errorbar(mean_fr_mean, mean_acc_mean, xerr =mean_fr_se, yerr=mean_acc_se, \n",
    "             fmt=\"--o\", label='Baseline-Mean', color='orange',\n",
    "            elinewidth=1,  markersize=8, capsize=5)\n",
    "plt.errorbar(knn_fr_mean, knn_acc_mean, xerr =knn_fr_se, yerr=knn_acc_se, \n",
    "             fmt=\":s\", label='Baseline-KNN', color='orange', markerfacecolor='white',\n",
    "            elinewidth=1,  markersize=8, capsize=5)\n",
    "\n",
    "plt.errorbar(mip_result['fr_mean'], mip_result['acc_mean'], \n",
    "             xerr =mip_result['fr_se'], yerr=mip_result['acc_se'], \n",
    "             fmt=\"-o\", label='FairMIPForest', elinewidth=1,  markersize=8, capsize=5)\n",
    "\n",
    "plt.errorbar(exp_result['fr_mean'], exp_result['acc_mean'], \n",
    "             xerr =exp_result['fr_se'], yerr=exp_result['acc_se'], \n",
    "             fmt=\"--o\", label='Argawal-Mean', color='crimson', \n",
    "            elinewidth=1,  markersize=8, capsize=5)\n",
    "plt.errorbar(knn_exp_result['fr_mean'], knn_exp_result['acc_mean'], \n",
    "             xerr =knn_exp_result['fr_se'], yerr=knn_exp_result['acc_se'], \n",
    "             fmt=\":s\", label='Argawal-KNN', color='crimson', markerfacecolor='white',\n",
    "            elinewidth=1,  markersize=8, capsize=5)\n",
    "plt.errorbar(disp_mis_result['fr_mean'], disp_mis_result['acc_mean'], \n",
    "             xerr =disp_mis_result['fr_se'], yerr=disp_mis_result['acc_se'], \n",
    "             fmt=\"--o\", label='Zafar-Mean', color='green',\n",
    "            elinewidth=1,  markersize=8, capsize=5)\n",
    "plt.errorbar(knn_disp_mis_result['fr_mean'], knn_disp_mis_result['acc_mean'], \n",
    "             xerr =knn_disp_mis_result['fr_se'], yerr=knn_disp_mis_result['acc_se'], \n",
    "             fmt=\":s\", label='Zafar-KNN', color='green', markerfacecolor='white',\n",
    "            elinewidth=1,  markersize=8, capsize=5)\n",
    "plt.errorbar(eqodds_result['fr_mean'], eqodds_result['acc_mean'], \n",
    "             xerr =eqodds_result['fr_se'], yerr=eqodds_result['acc_se'], \n",
    "             fmt=\"--o\", label='Hardt-Mean', color='slateblue',\n",
    "            elinewidth=1,  markersize=8, capsize=5)\n",
    "plt.errorbar(knn_eqodds_result['fr_mean'], knn_eqodds_result['acc_mean'], \n",
    "             xerr =knn_eqodds_result['fr_se'], yerr=knn_eqodds_result['acc_se'], \n",
    "             fmt=\":s\", label='Hardt-kNN', color='slateblue', markerfacecolor='white',\n",
    "            elinewidth=1,  markersize=8, capsize=5)\n",
    "\n",
    "\n",
    "# plt.legend()\n",
    "plt.legend(loc='lower right')\n",
    "plt.xlabel('FPR Difference')\n",
    "plt.ylabel('Accuracy')\n",
    "plt.title('Adult')"
   ]
  }
 ],
 "metadata": {
  "kernelspec": {
   "display_name": "Python 3",
   "language": "python",
   "name": "python3"
  },
  "language_info": {
   "codemirror_mode": {
    "name": "ipython",
    "version": 3
   },
   "file_extension": ".py",
   "mimetype": "text/x-python",
   "name": "python",
   "nbconvert_exporter": "python",
   "pygments_lexer": "ipython3",
   "version": "3.8.5"
  }
 },
 "nbformat": 4,
 "nbformat_minor": 4
}
