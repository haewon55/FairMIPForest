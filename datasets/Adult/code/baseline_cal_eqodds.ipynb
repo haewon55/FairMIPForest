{
 "cells": [
  {
   "cell_type": "markdown",
   "metadata": {},
   "source": [
    "# [Adult] Baseline -- Equalized Odds"
   ]
  },
  {
   "cell_type": "code",
   "execution_count": 1,
   "metadata": {},
   "outputs": [],
   "source": [
    "%matplotlib inline\n",
    "# Load all necessary packages\n",
    "import sys\n",
    "cwd = '../../../core'\n",
    "sys.path.append(cwd)\n",
    "\n",
    "import numpy as np\n",
    "import pandas as pd\n",
    "\n",
    "sys.path.append(\"../\")\n",
    "from aif360.datasets import AdultDataset, GermanDataset, CompasDataset, StandardDataset\n",
    "from aif360.metrics import BinaryLabelDatasetMetric\n",
    "from aif360.metrics import ClassificationMetric\n",
    "from aif360.metrics.utils import compute_boolean_conditioning_vector\n",
    "\n",
    "from aif360.algorithms.preprocessing.optim_preproc_helpers.data_preproc_functions\\\n",
    "                import load_preproc_data_adult, load_preproc_data_compas\n",
    "\n",
    "\n",
    "from aif360.algorithms.postprocessing.calibrated_eq_odds_postprocessing import CalibratedEqOddsPostprocessing\n",
    "from aif360.algorithms.postprocessing.eq_odds_postprocessing import EqOddsPostprocessing\n",
    "from tqdm import tqdm\n",
    "\n",
    "\n",
    "from sklearn.preprocessing import scale\n",
    "from sklearn.linear_model import LogisticRegression\n",
    "from sklearn.tree import DecisionTreeClassifier\n",
    "\n",
    "from sklearn.model_selection import train_test_split, KFold\n",
    "from sklearn.preprocessing import MinMaxScaler, StandardScaler, RobustScaler, MaxAbsScaler\n",
    "from sklearn.metrics import confusion_matrix, accuracy_score, roc_curve\n",
    "from sklearn.impute import KNNImputer, SimpleImputer\n",
    "\n",
    "from IPython.display import Markdown, display\n",
    "import matplotlib.pyplot as plt\n",
    "\n",
    "\n",
    "from load_adult import * \n",
    "from missing_module import * \n",
    "\n",
    "pd.set_option('display.max_rows', None)\n",
    "pd.set_option('display.max_columns', None)\n",
    "pd.set_option('display.max_colwidth', None)\n",
    "pd.set_option('display.width', None)\n",
    "pd.set_option('display.max_colwidth', None)\n",
    "np.set_printoptions(threshold=np.inf)\n",
    "\n",
    "\n",
    "\n",
    "\n",
    "\n"
   ]
  },
  {
   "cell_type": "markdown",
   "metadata": {},
   "source": [
    "<br/>\n",
    "\n",
    "### Generate Missing Data"
   ]
  },
  {
   "cell_type": "code",
   "execution_count": 2,
   "metadata": {},
   "outputs": [
    {
     "data": {
      "text/html": [
       "<div>\n",
       "<style scoped>\n",
       "    .dataframe tbody tr th:only-of-type {\n",
       "        vertical-align: middle;\n",
       "    }\n",
       "\n",
       "    .dataframe tbody tr th {\n",
       "        vertical-align: top;\n",
       "    }\n",
       "\n",
       "    .dataframe thead th {\n",
       "        text-align: right;\n",
       "    }\n",
       "</style>\n",
       "<table border=\"1\" class=\"dataframe\">\n",
       "  <thead>\n",
       "    <tr style=\"text-align: right;\">\n",
       "      <th></th>\n",
       "      <th>age</th>\n",
       "      <th>workclass</th>\n",
       "      <th>education</th>\n",
       "      <th>education-num</th>\n",
       "      <th>marital-status</th>\n",
       "      <th>occupation</th>\n",
       "      <th>relationship</th>\n",
       "      <th>race</th>\n",
       "      <th>gender</th>\n",
       "      <th>capital-gain</th>\n",
       "      <th>capital-loss</th>\n",
       "      <th>hours-per-week</th>\n",
       "      <th>native-country</th>\n",
       "      <th>income</th>\n",
       "    </tr>\n",
       "  </thead>\n",
       "  <tbody>\n",
       "    <tr>\n",
       "      <th>count</th>\n",
       "      <td>7834.000000</td>\n",
       "      <td>7834.000000</td>\n",
       "      <td>7834.000000</td>\n",
       "      <td>7834.000000</td>\n",
       "      <td>6214.000000</td>\n",
       "      <td>7834.000000</td>\n",
       "      <td>7834.000000</td>\n",
       "      <td>6207.000000</td>\n",
       "      <td>7834.000000</td>\n",
       "      <td>7834.000000</td>\n",
       "      <td>7834.000000</td>\n",
       "      <td>6619.000000</td>\n",
       "      <td>7834.000000</td>\n",
       "      <td>7834.000000</td>\n",
       "    </tr>\n",
       "    <tr>\n",
       "      <th>mean</th>\n",
       "      <td>0.306785</td>\n",
       "      <td>0.361990</td>\n",
       "      <td>0.702664</td>\n",
       "      <td>0.637265</td>\n",
       "      <td>0.429943</td>\n",
       "      <td>0.453359</td>\n",
       "      <td>0.348634</td>\n",
       "      <td>0.920533</td>\n",
       "      <td>0.498724</td>\n",
       "      <td>0.017038</td>\n",
       "      <td>0.025597</td>\n",
       "      <td>0.401033</td>\n",
       "      <td>0.910474</td>\n",
       "      <td>0.424304</td>\n",
       "    </tr>\n",
       "    <tr>\n",
       "      <th>std</th>\n",
       "      <td>0.175442</td>\n",
       "      <td>0.163557</td>\n",
       "      <td>0.237433</td>\n",
       "      <td>0.169363</td>\n",
       "      <td>0.271442</td>\n",
       "      <td>0.311633</td>\n",
       "      <td>0.360753</td>\n",
       "      <td>0.207756</td>\n",
       "      <td>0.500030</td>\n",
       "      <td>0.093686</td>\n",
       "      <td>0.104585</td>\n",
       "      <td>0.120818</td>\n",
       "      <td>0.152926</td>\n",
       "      <td>0.494268</td>\n",
       "    </tr>\n",
       "    <tr>\n",
       "      <th>min</th>\n",
       "      <td>0.000000</td>\n",
       "      <td>0.000000</td>\n",
       "      <td>0.000000</td>\n",
       "      <td>0.000000</td>\n",
       "      <td>0.000000</td>\n",
       "      <td>0.000000</td>\n",
       "      <td>0.000000</td>\n",
       "      <td>0.000000</td>\n",
       "      <td>0.000000</td>\n",
       "      <td>0.000000</td>\n",
       "      <td>0.000000</td>\n",
       "      <td>0.000000</td>\n",
       "      <td>0.000000</td>\n",
       "      <td>0.000000</td>\n",
       "    </tr>\n",
       "    <tr>\n",
       "      <th>25%</th>\n",
       "      <td>0.164384</td>\n",
       "      <td>0.333333</td>\n",
       "      <td>0.600000</td>\n",
       "      <td>0.533333</td>\n",
       "      <td>0.333333</td>\n",
       "      <td>0.230769</td>\n",
       "      <td>0.000000</td>\n",
       "      <td>1.000000</td>\n",
       "      <td>0.000000</td>\n",
       "      <td>0.000000</td>\n",
       "      <td>0.000000</td>\n",
       "      <td>0.377551</td>\n",
       "      <td>0.950000</td>\n",
       "      <td>0.000000</td>\n",
       "    </tr>\n",
       "    <tr>\n",
       "      <th>50%</th>\n",
       "      <td>0.301370</td>\n",
       "      <td>0.333333</td>\n",
       "      <td>0.733333</td>\n",
       "      <td>0.600000</td>\n",
       "      <td>0.333333</td>\n",
       "      <td>0.461538</td>\n",
       "      <td>0.200000</td>\n",
       "      <td>1.000000</td>\n",
       "      <td>0.000000</td>\n",
       "      <td>0.000000</td>\n",
       "      <td>0.000000</td>\n",
       "      <td>0.397959</td>\n",
       "      <td>0.950000</td>\n",
       "      <td>0.000000</td>\n",
       "    </tr>\n",
       "    <tr>\n",
       "      <th>75%</th>\n",
       "      <td>0.424658</td>\n",
       "      <td>0.333333</td>\n",
       "      <td>0.800000</td>\n",
       "      <td>0.800000</td>\n",
       "      <td>0.666667</td>\n",
       "      <td>0.692308</td>\n",
       "      <td>0.600000</td>\n",
       "      <td>1.000000</td>\n",
       "      <td>1.000000</td>\n",
       "      <td>0.000000</td>\n",
       "      <td>0.000000</td>\n",
       "      <td>0.448980</td>\n",
       "      <td>0.950000</td>\n",
       "      <td>1.000000</td>\n",
       "    </tr>\n",
       "    <tr>\n",
       "      <th>max</th>\n",
       "      <td>1.000000</td>\n",
       "      <td>1.000000</td>\n",
       "      <td>1.000000</td>\n",
       "      <td>1.000000</td>\n",
       "      <td>1.000000</td>\n",
       "      <td>1.000000</td>\n",
       "      <td>1.000000</td>\n",
       "      <td>1.000000</td>\n",
       "      <td>1.000000</td>\n",
       "      <td>1.000000</td>\n",
       "      <td>1.000000</td>\n",
       "      <td>1.000000</td>\n",
       "      <td>1.000000</td>\n",
       "      <td>1.000000</td>\n",
       "    </tr>\n",
       "  </tbody>\n",
       "</table>\n",
       "</div>"
      ],
      "text/plain": [
       "               age    workclass    education  education-num  marital-status  \\\n",
       "count  7834.000000  7834.000000  7834.000000    7834.000000     6214.000000   \n",
       "mean      0.306785     0.361990     0.702664       0.637265        0.429943   \n",
       "std       0.175442     0.163557     0.237433       0.169363        0.271442   \n",
       "min       0.000000     0.000000     0.000000       0.000000        0.000000   \n",
       "25%       0.164384     0.333333     0.600000       0.533333        0.333333   \n",
       "50%       0.301370     0.333333     0.733333       0.600000        0.333333   \n",
       "75%       0.424658     0.333333     0.800000       0.800000        0.666667   \n",
       "max       1.000000     1.000000     1.000000       1.000000        1.000000   \n",
       "\n",
       "        occupation  relationship         race       gender  capital-gain  \\\n",
       "count  7834.000000   7834.000000  6207.000000  7834.000000   7834.000000   \n",
       "mean      0.453359      0.348634     0.920533     0.498724      0.017038   \n",
       "std       0.311633      0.360753     0.207756     0.500030      0.093686   \n",
       "min       0.000000      0.000000     0.000000     0.000000      0.000000   \n",
       "25%       0.230769      0.000000     1.000000     0.000000      0.000000   \n",
       "50%       0.461538      0.200000     1.000000     0.000000      0.000000   \n",
       "75%       0.692308      0.600000     1.000000     1.000000      0.000000   \n",
       "max       1.000000      1.000000     1.000000     1.000000      1.000000   \n",
       "\n",
       "       capital-loss  hours-per-week  native-country       income  \n",
       "count   7834.000000     6619.000000     7834.000000  7834.000000  \n",
       "mean       0.025597        0.401033        0.910474     0.424304  \n",
       "std        0.104585        0.120818        0.152926     0.494268  \n",
       "min        0.000000        0.000000        0.000000     0.000000  \n",
       "25%        0.000000        0.377551        0.950000     0.000000  \n",
       "50%        0.000000        0.397959        0.950000     0.000000  \n",
       "75%        0.000000        0.448980        0.950000     1.000000  \n",
       "max        1.000000        1.000000        1.000000     1.000000  "
      ]
     },
     "execution_count": 2,
     "metadata": {},
     "output_type": "execute_result"
    }
   ],
   "source": [
    "## Loading Data ## \n",
    "df_train, df_test = load_adult()\n",
    "\n",
    "## Balancing the Data ##\n",
    "df = balance_data(df_train, 'income', 0)\n",
    "df = balance_data(df, 'gender', 1)\n",
    "\n",
    "sens_attr = 'gender'\n",
    "s = 42   # random seed\n",
    "\n",
    "## Generate Missing Data in Training Set ##\n",
    "df_ms = generate_missing(df, sens_attr, ms_label='marital-status', p_ms0=0, p_ms1=0.4, seed=s)\n",
    "df_ms = generate_missing(df_ms, sens_attr, ms_label='hours-per-week', p_ms0=0, p_ms1=0.3, seed=s)\n",
    "df_ms = generate_missing(df_ms, sens_attr, ms_label='race', p_ms0=0.2, p_ms1=0.2, seed=s)\n",
    "\n",
    "df_ms.describe()"
   ]
  },
  {
   "cell_type": "markdown",
   "metadata": {},
   "source": [
    "<br/><br/>"
   ]
  },
  {
   "cell_type": "markdown",
   "metadata": {},
   "source": [
    "## Define Parameters"
   ]
  },
  {
   "cell_type": "code",
   "execution_count": 3,
   "metadata": {},
   "outputs": [],
   "source": [
    "cost_constraint = \"fpr\"\n",
    "\n",
    "privileged_groups = [{'gender': 1}]\n",
    "unprivileged_groups = [{'gender': 0}]\n",
    "\n",
    "favorable_label = 1\n",
    "randseed = 42 "
   ]
  },
  {
   "cell_type": "code",
   "execution_count": 4,
   "metadata": {},
   "outputs": [
    {
     "data": {
      "text/markdown": [
       "#### Original-Predicted testing dataset"
      ],
      "text/plain": [
       "<IPython.core.display.Markdown object>"
      ]
     },
     "metadata": {},
     "output_type": "display_data"
    },
    {
     "name": "stdout",
     "output_type": "stream",
     "text": [
      "Difference in FPR between unprivileged and privileged groups\n",
      "-0.44149720011788984\n",
      "Overall Test Accuracy \n",
      "0.7670068027210885\n"
     ]
    },
    {
     "data": {
      "text/markdown": [
       "#### Original-Transformed testing dataset"
      ],
      "text/plain": [
       "<IPython.core.display.Markdown object>"
      ]
     },
     "metadata": {},
     "output_type": "display_data"
    },
    {
     "name": "stdout",
     "output_type": "stream",
     "text": [
      "Difference in FPR between unprivileged and privileged groups\n",
      "0.0005894488653109264\n",
      "Overall Test Accuracy \n",
      "0.6360544217687075\n"
     ]
    },
    {
     "data": {
      "text/markdown": [
       "#### Original-Predicted testing dataset"
      ],
      "text/plain": [
       "<IPython.core.display.Markdown object>"
      ]
     },
     "metadata": {},
     "output_type": "display_data"
    },
    {
     "name": "stdout",
     "output_type": "stream",
     "text": [
      "Difference in FPR between unprivileged and privileged groups\n",
      "-0.13603104212860312\n",
      "Overall Test Accuracy \n",
      "0.7746598639455783\n"
     ]
    },
    {
     "data": {
      "text/markdown": [
       "#### Original-Transformed testing dataset"
      ],
      "text/plain": [
       "<IPython.core.display.Markdown object>"
      ]
     },
     "metadata": {},
     "output_type": "display_data"
    },
    {
     "name": "stdout",
     "output_type": "stream",
     "text": [
      "Difference in FPR between unprivileged and privileged groups\n",
      "0.03560606060606061\n",
      "Overall Test Accuracy \n",
      "0.7168367346938775\n"
     ]
    },
    {
     "data": {
      "text/markdown": [
       "#### Original-Predicted testing dataset"
      ],
      "text/plain": [
       "<IPython.core.display.Markdown object>"
      ]
     },
     "metadata": {},
     "output_type": "display_data"
    },
    {
     "name": "stdout",
     "output_type": "stream",
     "text": [
      "Difference in FPR between unprivileged and privileged groups\n",
      "-0.4458255965889553\n",
      "Overall Test Accuracy \n",
      "0.7695578231292517\n"
     ]
    },
    {
     "data": {
      "text/markdown": [
       "#### Original-Transformed testing dataset"
      ],
      "text/plain": [
       "<IPython.core.display.Markdown object>"
      ]
     },
     "metadata": {},
     "output_type": "display_data"
    },
    {
     "name": "stdout",
     "output_type": "stream",
     "text": [
      "Difference in FPR between unprivileged and privileged groups\n",
      "0.0024929509662334204\n",
      "Overall Test Accuracy \n",
      "0.6505102040816326\n"
     ]
    },
    {
     "data": {
      "text/markdown": [
       "#### Original-Predicted testing dataset"
      ],
      "text/plain": [
       "<IPython.core.display.Markdown object>"
      ]
     },
     "metadata": {},
     "output_type": "display_data"
    },
    {
     "name": "stdout",
     "output_type": "stream",
     "text": [
      "Difference in FPR between unprivileged and privileged groups\n",
      "-0.4873468729851709\n",
      "Overall Test Accuracy \n",
      "0.7738095238095238\n"
     ]
    },
    {
     "data": {
      "text/markdown": [
       "#### Original-Transformed testing dataset"
      ],
      "text/plain": [
       "<IPython.core.display.Markdown object>"
      ]
     },
     "metadata": {},
     "output_type": "display_data"
    },
    {
     "name": "stdout",
     "output_type": "stream",
     "text": [
      "Difference in FPR between unprivileged and privileged groups\n",
      "0.05937029873200084\n",
      "Overall Test Accuracy \n",
      "0.6471088435374149\n"
     ]
    },
    {
     "data": {
      "text/markdown": [
       "#### Original-Predicted testing dataset"
      ],
      "text/plain": [
       "<IPython.core.display.Markdown object>"
      ]
     },
     "metadata": {},
     "output_type": "display_data"
    },
    {
     "name": "stdout",
     "output_type": "stream",
     "text": [
      "Difference in FPR between unprivileged and privileged groups\n",
      "-0.4277472503163352\n",
      "Overall Test Accuracy \n",
      "0.7695578231292517\n"
     ]
    },
    {
     "data": {
      "text/markdown": [
       "#### Original-Transformed testing dataset"
      ],
      "text/plain": [
       "<IPython.core.display.Markdown object>"
      ]
     },
     "metadata": {},
     "output_type": "display_data"
    },
    {
     "name": "stdout",
     "output_type": "stream",
     "text": [
      "Difference in FPR between unprivileged and privileged groups\n",
      "0.02212134887136874\n",
      "Overall Test Accuracy \n",
      "0.6377551020408163\n"
     ]
    },
    {
     "data": {
      "text/markdown": [
       "#### Original-Predicted testing dataset"
      ],
      "text/plain": [
       "<IPython.core.display.Markdown object>"
      ]
     },
     "metadata": {},
     "output_type": "display_data"
    },
    {
     "name": "stdout",
     "output_type": "stream",
     "text": [
      "Difference in FPR between unprivileged and privileged groups\n",
      "-0.4355433789954338\n",
      "Overall Test Accuracy \n",
      "0.782312925170068\n"
     ]
    },
    {
     "data": {
      "text/markdown": [
       "#### Original-Transformed testing dataset"
      ],
      "text/plain": [
       "<IPython.core.display.Markdown object>"
      ]
     },
     "metadata": {},
     "output_type": "display_data"
    },
    {
     "name": "stdout",
     "output_type": "stream",
     "text": [
      "Difference in FPR between unprivileged and privileged groups\n",
      "0.0325296803652968\n",
      "Overall Test Accuracy \n",
      "0.6471088435374149\n"
     ]
    },
    {
     "data": {
      "text/markdown": [
       "#### Original-Predicted testing dataset"
      ],
      "text/plain": [
       "<IPython.core.display.Markdown object>"
      ]
     },
     "metadata": {},
     "output_type": "display_data"
    },
    {
     "name": "stdout",
     "output_type": "stream",
     "text": [
      "Difference in FPR between unprivileged and privileged groups\n",
      "-0.43002879473467703\n",
      "Overall Test Accuracy \n",
      "0.7763605442176871\n"
     ]
    },
    {
     "data": {
      "text/markdown": [
       "#### Original-Transformed testing dataset"
      ],
      "text/plain": [
       "<IPython.core.display.Markdown object>"
      ]
     },
     "metadata": {},
     "output_type": "display_data"
    },
    {
     "name": "stdout",
     "output_type": "stream",
     "text": [
      "Difference in FPR between unprivileged and privileged groups\n",
      "0.00863842040312629\n",
      "Overall Test Accuracy \n",
      "0.6360544217687075\n"
     ]
    },
    {
     "data": {
      "text/markdown": [
       "#### Original-Predicted testing dataset"
      ],
      "text/plain": [
       "<IPython.core.display.Markdown object>"
      ]
     },
     "metadata": {},
     "output_type": "display_data"
    },
    {
     "name": "stdout",
     "output_type": "stream",
     "text": [
      "Difference in FPR between unprivileged and privileged groups\n",
      "-0.4134584851032035\n",
      "Overall Test Accuracy \n",
      "0.7721088435374149\n"
     ]
    },
    {
     "data": {
      "text/markdown": [
       "#### Original-Transformed testing dataset"
      ],
      "text/plain": [
       "<IPython.core.display.Markdown object>"
      ]
     },
     "metadata": {},
     "output_type": "display_data"
    },
    {
     "name": "stdout",
     "output_type": "stream",
     "text": [
      "Difference in FPR between unprivileged and privileged groups\n",
      "0.029812272345194735\n",
      "Overall Test Accuracy \n",
      "0.6513605442176871\n"
     ]
    },
    {
     "data": {
      "text/markdown": [
       "#### Original-Predicted testing dataset"
      ],
      "text/plain": [
       "<IPython.core.display.Markdown object>"
      ]
     },
     "metadata": {},
     "output_type": "display_data"
    },
    {
     "name": "stdout",
     "output_type": "stream",
     "text": [
      "Difference in FPR between unprivileged and privileged groups\n",
      "-0.38723765181455616\n",
      "Overall Test Accuracy \n",
      "0.7695578231292517\n"
     ]
    },
    {
     "data": {
      "text/markdown": [
       "#### Original-Transformed testing dataset"
      ],
      "text/plain": [
       "<IPython.core.display.Markdown object>"
      ]
     },
     "metadata": {},
     "output_type": "display_data"
    },
    {
     "name": "stdout",
     "output_type": "stream",
     "text": [
      "Difference in FPR between unprivileged and privileged groups\n",
      "0.09286629491274612\n",
      "Overall Test Accuracy \n",
      "0.6845238095238095\n"
     ]
    },
    {
     "data": {
      "text/markdown": [
       "#### Original-Predicted testing dataset"
      ],
      "text/plain": [
       "<IPython.core.display.Markdown object>"
      ]
     },
     "metadata": {},
     "output_type": "display_data"
    },
    {
     "name": "stdout",
     "output_type": "stream",
     "text": [
      "Difference in FPR between unprivileged and privileged groups\n",
      "-0.3219229801157815\n",
      "Overall Test Accuracy \n",
      "0.7831632653061225\n"
     ]
    },
    {
     "data": {
      "text/markdown": [
       "#### Original-Transformed testing dataset"
      ],
      "text/plain": [
       "<IPython.core.display.Markdown object>"
      ]
     },
     "metadata": {},
     "output_type": "display_data"
    },
    {
     "name": "stdout",
     "output_type": "stream",
     "text": [
      "Difference in FPR between unprivileged and privileged groups\n",
      "0.07709179820934164\n",
      "Overall Test Accuracy \n",
      "0.6607142857142857\n"
     ]
    }
   ],
   "source": [
    "fr_list = []\n",
    "acc_list = [] \n",
    "for seed in range (1, 11): \n",
    "    dataset_orig_train, dataset_orig_test = train_test_split(df_ms, test_size=0.3, random_state=seed)\n",
    "\n",
    "\n",
    "    dataset_orig_train_no_sens = dataset_orig_train.drop(columns=['gender','income'])\n",
    "    dataset_orig_test_no_sens = dataset_orig_test.drop(columns=['gender','income'])\n",
    "\n",
    "    ## Change the following two lines to get mean or k-nn results ##\n",
    "#     imputer = SimpleImputer()\n",
    "    imputer = KNNImputer()\n",
    "\n",
    "    dataset_orig_train_no_sens = pd.DataFrame(imputer.fit_transform(dataset_orig_train_no_sens), \n",
    "                                              columns=dataset_orig_train_no_sens.columns, \n",
    "                                              index=dataset_orig_train_no_sens.index)\n",
    "    dataset_orig_test_no_sens = pd.DataFrame(imputer.transform(dataset_orig_test_no_sens), \n",
    "                                             columns=dataset_orig_test_no_sens.columns, \n",
    "                                             index=dataset_orig_test_no_sens.index)\n",
    "    dataset_orig_train = pd.concat([dataset_orig_train_no_sens, dataset_orig_train[['gender','income']]], axis=1)\n",
    "    dataset_orig_test = pd.concat([dataset_orig_test_no_sens, dataset_orig_test[['gender','income']]], axis=1)\n",
    "\n",
    "\n",
    "    dataset_orig_valid, dataset_orig_test = train_test_split(dataset_orig_test, test_size=0.5, random_state=seed)\n",
    "    \n",
    "\n",
    "    ### Converting to AIF360 StandardDataset objects ###\n",
    "    dataset_orig_train = StandardDataset(dataset_orig_train, label_name='income', favorable_classes=[1],\n",
    "                                         protected_attribute_names=['gender'], privileged_classes=[[1]])\n",
    "    dataset_orig_valid = StandardDataset(dataset_orig_valid, label_name='income', favorable_classes=[1],\n",
    "                                         protected_attribute_names=['gender'], privileged_classes=[[1]])\n",
    "    dataset_orig_test = StandardDataset(dataset_orig_test, label_name='income', favorable_classes=[1],\n",
    "                                         protected_attribute_names=['gender'], privileged_classes=[[1]])\n",
    "\n",
    "    # Placeholder for predicted and transformed datasets\n",
    "    dataset_orig_train_pred = dataset_orig_train.copy(deepcopy=True)\n",
    "    dataset_orig_valid_pred = dataset_orig_valid.copy(deepcopy=True)\n",
    "    dataset_orig_test_pred = dataset_orig_test.copy(deepcopy=True)\n",
    "\n",
    "    dataset_new_valid_pred = dataset_orig_valid.copy(deepcopy=True)\n",
    "    dataset_new_test_pred = dataset_orig_test.copy(deepcopy=True)\n",
    "\n",
    "    idx_wo_protected = list(set(range(13))-set([8]))\n",
    "    X_train = dataset_orig_train.features[:,idx_wo_protected]\n",
    "    y_train = dataset_orig_train.labels.ravel()\n",
    "\n",
    "    X_train.shape\n",
    "    # lmod = LogisticRegression()\n",
    "    lmod = DecisionTreeClassifier(max_depth=3)\n",
    "\n",
    "    lmod.fit(X_train, y_train)\n",
    "\n",
    "    fav_idx = np.where(lmod.classes_ == dataset_orig_train.favorable_label)[0][0]\n",
    "    y_train_pred_prob = lmod.predict_proba(X_train)[:,fav_idx]\n",
    "\n",
    "    # Prediction probs for validation and testing data\n",
    "    X_valid = dataset_orig_valid.features[:,idx_wo_protected]\n",
    "    y_valid_pred_prob = lmod.predict_proba(X_valid)[:,fav_idx]\n",
    "\n",
    "    X_test = dataset_orig_test.features[:,idx_wo_protected]\n",
    "    y_test_pred_prob = lmod.predict_proba(X_test)[:,fav_idx]\n",
    "\n",
    "    class_thresh = 0.5\n",
    "    dataset_orig_train_pred.scores = y_train_pred_prob.reshape(-1,1)\n",
    "    dataset_orig_valid_pred.scores = y_valid_pred_prob.reshape(-1,1)\n",
    "    dataset_orig_test_pred.scores = y_test_pred_prob.reshape(-1,1)\n",
    "\n",
    "    y_train_pred = np.zeros_like(dataset_orig_train_pred.labels)\n",
    "    y_train_pred[y_train_pred_prob >= class_thresh] = dataset_orig_train_pred.favorable_label\n",
    "    y_train_pred[~(y_train_pred_prob >= class_thresh)] = dataset_orig_train_pred.unfavorable_label\n",
    "    dataset_orig_train_pred.labels = y_train_pred\n",
    "\n",
    "    y_valid_pred = np.zeros_like(dataset_orig_valid_pred.labels)\n",
    "    y_valid_pred[y_valid_pred_prob >= class_thresh] = dataset_orig_valid_pred.favorable_label\n",
    "    y_valid_pred[~(y_valid_pred_prob >= class_thresh)] = dataset_orig_valid_pred.unfavorable_label\n",
    "    dataset_orig_valid_pred.labels = y_valid_pred\n",
    "\n",
    "    y_test_pred = np.zeros_like(dataset_orig_test_pred.labels)\n",
    "    y_test_pred[y_test_pred_prob >= class_thresh] = dataset_orig_test_pred.favorable_label\n",
    "    y_test_pred[~(y_test_pred_prob >= class_thresh)] = dataset_orig_test_pred.unfavorable_label\n",
    "    dataset_orig_test_pred.labels = y_test_pred\n",
    "\n",
    "    \n",
    "    cpp = EqOddsPostprocessing(privileged_groups = privileged_groups,\n",
    "                                     unprivileged_groups = unprivileged_groups,\n",
    "                                     seed=randseed)\n",
    "    cpp = cpp.fit(dataset_orig_valid, dataset_orig_valid_pred)\n",
    "    \n",
    "    dataset_transf_valid_pred = cpp.predict(dataset_orig_valid_pred)\n",
    "    dataset_transf_test_pred = cpp.predict(dataset_orig_test_pred)\n",
    "    \n",
    "    cm_pred_test = ClassificationMetric(dataset_orig_test, dataset_orig_test_pred,\n",
    "                             unprivileged_groups=unprivileged_groups,\n",
    "                             privileged_groups=privileged_groups)\n",
    "    \n",
    "    display(Markdown(\"#### Original-Predicted testing dataset\"))\n",
    "    print(\"Difference in FPR between unprivileged and privileged groups\")\n",
    "    print(cm_pred_test.difference(cm_pred_test.false_positive_rate))\n",
    "    \n",
    "    print(\"Overall Test Accuracy \")\n",
    "    print(cm_pred_test.accuracy())\n",
    "    \n",
    "    cm_transf_test = ClassificationMetric(dataset_orig_test, dataset_transf_test_pred,\n",
    "                             unprivileged_groups=unprivileged_groups,\n",
    "                             privileged_groups=privileged_groups)\n",
    "    display(Markdown(\"#### Original-Transformed testing dataset\"))\n",
    "    print(\"Difference in FPR between unprivileged and privileged groups\")\n",
    "    fr = np.abs(cm_transf_test.difference(cm_transf_test.false_positive_rate))\n",
    "    fr_list.append(fr)\n",
    "    print(fr)\n",
    "\n",
    "    print(\"Overall Test Accuracy \")\n",
    "    acc = cm_transf_test.accuracy()\n",
    "    acc_list.append(acc)\n",
    "    print(acc)\n",
    "    \n"
   ]
  },
  {
   "cell_type": "code",
   "execution_count": 18,
   "metadata": {},
   "outputs": [],
   "source": [
    "acc_mean = [np.array(acc_list).mean()]\n",
    "acc_std = [np.array(acc_list).std()]\n",
    "fr_mean = [np.array(fr_list).mean()]\n",
    "fr_std = [np.array(fr_list).std()]"
   ]
  },
  {
   "cell_type": "markdown",
   "metadata": {},
   "source": [
    "## Saving the Results"
   ]
  },
  {
   "cell_type": "code",
   "execution_count": 19,
   "metadata": {},
   "outputs": [],
   "source": [
    "# with open('results/mean_eqodds_result.pkl', 'wb+') as f: \n",
    "with open('results/knn_eqodds_result.pkl', 'wb+') as f: \n",
    "    pickle.dump({'fr_mean': fr_mean, 'fr_std': fr_std, 'acc_mean': acc_mean, 'acc_std': acc_std}, f)"
   ]
  }
 ],
 "metadata": {
  "kernelspec": {
   "display_name": "Python 3",
   "language": "python",
   "name": "python3"
  },
  "language_info": {
   "codemirror_mode": {
    "name": "ipython",
    "version": 3
   },
   "file_extension": ".py",
   "mimetype": "text/x-python",
   "name": "python",
   "nbconvert_exporter": "python",
   "pygments_lexer": "ipython3",
   "version": "3.8.5"
  }
 },
 "nbformat": 4,
 "nbformat_minor": 4
}
