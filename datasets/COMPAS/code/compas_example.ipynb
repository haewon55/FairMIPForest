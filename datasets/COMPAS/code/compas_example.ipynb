{
 "cells": [
  {
   "cell_type": "markdown",
   "metadata": {},
   "source": [
    "# [COMPAS] Example Training of Fair MIP Forest\n",
    "\n"
   ]
  },
  {
   "cell_type": "code",
   "execution_count": null,
   "metadata": {},
   "outputs": [],
   "source": [
    "%load_ext autoreload\n",
    "%autoreload 2"
   ]
  },
  {
   "cell_type": "code",
   "execution_count": null,
   "metadata": {},
   "outputs": [],
   "source": [
    "import sys\n",
    "# cwd = '/home/ec2-user/SageMaker/imputation-fairness/data/Adult/code'\n",
    "cwd = '../../../core'\n",
    "sys.path.append(cwd)\n",
    "\n",
    "import numpy as np\n",
    "import pandas as pd\n",
    "import scipy\n",
    "import matplotlib.pyplot as plt\n",
    "import seaborn as sns\n",
    "%matplotlib inline\n",
    "\n",
    "from load_compas import * \n",
    "from treeutils import *\n",
    "from missing_module import * \n",
    "\n",
    "pd.set_option('display.max_rows', None)\n",
    "pd.set_option('display.max_columns', None)\n",
    "pd.set_option('display.max_colwidth', None)\n",
    "pd.set_option('display.width', None)\n",
    "pd.set_option('display.max_colwidth', None)\n",
    "np.set_printoptions(threshold=np.inf)\n",
    "\n",
    "from sklearn.linear_model import LogisticRegression\n",
    "from sklearn.model_selection import train_test_split, KFold\n",
    "from sklearn.preprocessing import MinMaxScaler, StandardScaler, RobustScaler, MaxAbsScaler\n",
    "from sklearn.metrics import confusion_matrix, accuracy_score\n",
    "from sklearn.impute import KNNImputer\n",
    "\n",
    "from IPython.display import display, HTML\n",
    "\n",
    "from itertools import combinations"
   ]
  },
  {
   "cell_type": "markdown",
   "metadata": {},
   "source": [
    "## Loading & Balancing Data "
   ]
  },
  {
   "cell_type": "code",
   "execution_count": null,
   "metadata": {},
   "outputs": [],
   "source": [
    "## Loading Data ## \n",
    "X, y, x_control = load_compas_data()\n",
    "\n",
    "df = pd.DataFrame(X, columns= ['age_cat_25 - 45', 'age_cat_Greater than 45', 'age_cat_Less than 25', 'race', 'sex', \n",
    "                               'priors_count', 'c_charge_degree'])\n",
    "\n",
    "y = pd.Series(y, name=\"two_year_recid\")\n",
    "\n",
    "df = pd.concat([df, y], axis=1)\n",
    "\n",
    "\n",
    "## Balancing the Data ##\n",
    "df = balance_data(df, 'race', 0)\n",
    "\n",
    "df.describe()"
   ]
  },
  {
   "cell_type": "markdown",
   "metadata": {},
   "source": [
    "## Generating Missing Entries"
   ]
  },
  {
   "cell_type": "code",
   "execution_count": null,
   "metadata": {},
   "outputs": [],
   "source": [
    "sens_attr='race'\n",
    "s = 777  # random seed\n",
    "\n",
    "## Generate Missing Data in Training Set ##\n",
    "df_ms = generate_missing(df, c_label='race', ms_label='sex', p_ms0=0.4, p_ms1=0.1, seed=s)\n",
    "df_ms = generate_missing(df_ms, c_label='race', ms_label='priors_count', p_ms0=0.6, p_ms1=0.2, seed=s)\n",
    "\n",
    "## Saving the data with missing values to a pickle file \n",
    "df_ms_to_pickle(df_ms, sens_attr, filename='pkl_data/compas_ms.pkl')\n"
   ]
  },
  {
   "cell_type": "markdown",
   "metadata": {},
   "source": [
    "<br/>\n",
    "\n",
    "## Training a Fair MIP Forest Model"
   ]
  },
  {
   "cell_type": "markdown",
   "metadata": {},
   "source": [
    "### Setting the parameters"
   ]
  },
  {
   "cell_type": "code",
   "execution_count": null,
   "metadata": {},
   "outputs": [],
   "source": [
    "### Example Parameters ###\n",
    "D = 3\n",
    "num_tree = 30\n",
    "batch_size = 200 \n",
    "t_limit = 60\n",
    "fair = 'fnr'\n",
    "input_file = 'pkl_data/compas_ms.pkl'\n",
    "seed = 42\n",
    "lambd = 0.5\n",
    "####################################"
   ]
  },
  {
   "cell_type": "markdown",
   "metadata": {},
   "source": [
    "### Training"
   ]
  },
  {
   "cell_type": "code",
   "execution_count": null,
   "metadata": {},
   "outputs": [],
   "source": [
    "\n",
    "### Train a Fair MIP Forest model ###\n",
    "## Results are saved to a file\n",
    "run_ensemble_tree(D, num_tree, batch_size, lambd, t_limit, fair, input_file, seed)"
   ]
  },
  {
   "cell_type": "markdown",
   "metadata": {},
   "source": [
    "## Open the Trained Model"
   ]
  },
  {
   "cell_type": "code",
   "execution_count": null,
   "metadata": {},
   "outputs": [],
   "source": [
    "output_file = 'forests/d3trees_seed{}/{}_L{:.2f}_N{}_b{}.pkl'.format(seed, fair, lambd, num_tree, batch_size)\n",
    "\n",
    "with open(output_file, 'rb') as handle: \n",
    "    sol_trees = pickle.load(handle)\n",
    "\n",
    "forest = sol_to_forest(sol_trees, D)"
   ]
  },
  {
   "cell_type": "markdown",
   "metadata": {},
   "source": [
    "## Evaluate the Model"
   ]
  },
  {
   "cell_type": "code",
   "execution_count": null,
   "metadata": {},
   "outputs": [],
   "source": [
    "## Open the Test Dataset ## \n",
    "\n",
    "### Loading Test Data ### \n",
    "filename = 'pkl_data/compas_ms.pkl'\n",
    "\n",
    "with open(filename, 'rb') as handle: \n",
    "    data = pickle.load(handle)\n",
    "    \n",
    "X_orig = data['X']\n",
    "y_orig = data['y']\n",
    "m_orig = data['m']\n",
    "S_orig = data['S']\n",
    "\n",
    "X_train, X_test, y_train, y_test, m_train, m_test, S_train, S_test = train_test_split(X_orig, y_orig, m_orig, S_orig, test_size=0.3, random_state=seed)\n",
    "\n",
    "X_test = np.nan_to_num(X_test, copy=False,nan=-999)\n",
    "\n",
    "\n",
    "### Evaluate The Model ###\n",
    "y_hat = forest.predict(X_test, m_test)\n",
    "forest_acc = binary_score(y_test, y_hat)\n",
    "forest_fr = np.abs(binary_score(y_test[S_test==0], y_hat[S_test==0], fair) - \n",
    "                   binary_score(y_test[S_test==1], y_hat[S_test==1], fair))\n",
    "\n",
    "print(\" ======== Model Performance ======== \")\n",
    "print(\"Accuracy: {:.2f}\".format(forest_acc))\n",
    "print(\"Fairness Metric: {:.2f}\".format(forest_fr))"
   ]
  },
  {
   "cell_type": "code",
   "execution_count": null,
   "metadata": {},
   "outputs": [],
   "source": []
  }
 ],
 "metadata": {
  "interpreter": {
   "hash": "90192658a0d975a4e70badc069571dc20f616e745ad1c8fe10366772a1ea5cf6"
  },
  "kernelspec": {
   "display_name": "Python 3",
   "language": "python",
   "name": "python3"
  },
  "language_info": {
   "codemirror_mode": {
    "name": "ipython",
    "version": 3
   },
   "file_extension": ".py",
   "mimetype": "text/x-python",
   "name": "python",
   "nbconvert_exporter": "python",
   "pygments_lexer": "ipython3",
   "version": "3.8.5"
  }
 },
 "nbformat": 4,
 "nbformat_minor": 4
}
