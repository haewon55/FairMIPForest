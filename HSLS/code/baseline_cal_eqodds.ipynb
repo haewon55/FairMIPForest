{
 "cells": [
  {
   "cell_type": "markdown",
   "metadata": {},
   "source": [
    "# [HSLS] Baseline -- Equalized Odds \n"
   ]
  },
  {
   "cell_type": "code",
   "execution_count": 2,
   "metadata": {},
   "outputs": [],
   "source": [
    "%matplotlib inline\n",
    "# Load all necessary packages\n",
    "import sys\n",
    "cwd = '../../../core'\n",
    "sys.path.append(cwd)\n",
    "\n",
    "import numpy as np\n",
    "import pandas as pd\n",
    "\n",
    "sys.path.append(\"../\")\n",
    "from aif360.datasets import AdultDataset, GermanDataset, CompasDataset, StandardDataset\n",
    "from aif360.metrics import BinaryLabelDatasetMetric\n",
    "from aif360.metrics import ClassificationMetric\n",
    "from aif360.metrics.utils import compute_boolean_conditioning_vector\n",
    "\n",
    "\n",
    "from aif360.algorithms.postprocessing.calibrated_eq_odds_postprocessing import CalibratedEqOddsPostprocessing\n",
    "from aif360.algorithms.postprocessing.eq_odds_postprocessing import EqOddsPostprocessing\n",
    "from tqdm import tqdm\n",
    "\n",
    "from sklearn.preprocessing import scale\n",
    "from sklearn.linear_model import LogisticRegression\n",
    "from sklearn.tree import DecisionTreeClassifier\n",
    "from sklearn import tree\n",
    "\n",
    "from sklearn.model_selection import train_test_split, KFold\n",
    "from sklearn.preprocessing import MinMaxScaler, StandardScaler, RobustScaler, MaxAbsScaler\n",
    "from sklearn.metrics import confusion_matrix, accuracy_score, roc_curve\n",
    "from sklearn.impute import KNNImputer,SimpleImputer\n",
    "\n",
    "from IPython.display import Markdown, display\n",
    "import matplotlib.pyplot as plt\n",
    "\n",
    "\n",
    "from missing_module import * \n",
    "\n",
    "pd.set_option('display.max_rows', None)\n",
    "pd.set_option('display.max_columns', None)\n",
    "pd.set_option('display.max_colwidth', None)\n",
    "pd.set_option('display.width', None)\n",
    "pd.set_option('display.max_colwidth', None)\n",
    "np.set_printoptions(threshold=np.inf)\n",
    "\n",
    "\n",
    "\n",
    "\n",
    "\n"
   ]
  },
  {
   "cell_type": "markdown",
   "metadata": {},
   "source": [
    "<br/>\n",
    "\n",
    "### Load Data"
   ]
  },
  {
   "cell_type": "code",
   "execution_count": 11,
   "metadata": {},
   "outputs": [
    {
     "data": {
      "text/html": [
       "<div>\n",
       "<style scoped>\n",
       "    .dataframe tbody tr th:only-of-type {\n",
       "        vertical-align: middle;\n",
       "    }\n",
       "\n",
       "    .dataframe tbody tr th {\n",
       "        vertical-align: top;\n",
       "    }\n",
       "\n",
       "    .dataframe thead th {\n",
       "        text-align: right;\n",
       "    }\n",
       "</style>\n",
       "<table border=\"1\" class=\"dataframe\">\n",
       "  <thead>\n",
       "    <tr style=\"text-align: right;\">\n",
       "      <th></th>\n",
       "      <th>X1MTHID</th>\n",
       "      <th>X1MTHUTI</th>\n",
       "      <th>X1MTHEFF</th>\n",
       "      <th>X1PAR2EDU</th>\n",
       "      <th>X1FAMINCOME</th>\n",
       "      <th>X1P1RELATION</th>\n",
       "      <th>X1PAR1EMP</th>\n",
       "      <th>X1SCHOOLBEL</th>\n",
       "      <th>X1STU30OCC2</th>\n",
       "      <th>racebin</th>\n",
       "      <th>gradebin</th>\n",
       "    </tr>\n",
       "  </thead>\n",
       "  <tbody>\n",
       "    <tr>\n",
       "      <th>count</th>\n",
       "      <td>21159.000000</td>\n",
       "      <td>18802.000000</td>\n",
       "      <td>18759.000000</td>\n",
       "      <td>12889.000000</td>\n",
       "      <td>16429.000000</td>\n",
       "      <td>16429.000000</td>\n",
       "      <td>16429.000000</td>\n",
       "      <td>20680.000000</td>\n",
       "      <td>21018.000000</td>\n",
       "      <td>21444.000000</td>\n",
       "      <td>21444.000000</td>\n",
       "    </tr>\n",
       "    <tr>\n",
       "      <th>mean</th>\n",
       "      <td>0.506601</td>\n",
       "      <td>0.724713</td>\n",
       "      <td>0.652447</td>\n",
       "      <td>0.326208</td>\n",
       "      <td>0.303599</td>\n",
       "      <td>0.056644</td>\n",
       "      <td>0.756001</td>\n",
       "      <td>0.744307</td>\n",
       "      <td>0.433003</td>\n",
       "      <td>0.552789</td>\n",
       "      <td>0.500000</td>\n",
       "    </tr>\n",
       "    <tr>\n",
       "      <th>std</th>\n",
       "      <td>0.287608</td>\n",
       "      <td>0.206873</td>\n",
       "      <td>0.219202</td>\n",
       "      <td>0.248146</td>\n",
       "      <td>0.254136</td>\n",
       "      <td>0.177614</td>\n",
       "      <td>0.313303</td>\n",
       "      <td>0.169257</td>\n",
       "      <td>0.377249</td>\n",
       "      <td>0.497217</td>\n",
       "      <td>0.500012</td>\n",
       "    </tr>\n",
       "    <tr>\n",
       "      <th>min</th>\n",
       "      <td>0.000000</td>\n",
       "      <td>0.000000</td>\n",
       "      <td>0.000000</td>\n",
       "      <td>0.000000</td>\n",
       "      <td>0.000000</td>\n",
       "      <td>0.000000</td>\n",
       "      <td>0.000000</td>\n",
       "      <td>0.000000</td>\n",
       "      <td>0.000000</td>\n",
       "      <td>0.000000</td>\n",
       "      <td>0.000000</td>\n",
       "    </tr>\n",
       "    <tr>\n",
       "      <th>25%</th>\n",
       "      <td>0.332378</td>\n",
       "      <td>0.582988</td>\n",
       "      <td>0.519824</td>\n",
       "      <td>0.166667</td>\n",
       "      <td>0.083333</td>\n",
       "      <td>0.000000</td>\n",
       "      <td>0.333333</td>\n",
       "      <td>0.663300</td>\n",
       "      <td>0.181818</td>\n",
       "      <td>0.000000</td>\n",
       "      <td>0.000000</td>\n",
       "    </tr>\n",
       "    <tr>\n",
       "      <th>50%</th>\n",
       "      <td>0.504298</td>\n",
       "      <td>0.665975</td>\n",
       "      <td>0.665198</td>\n",
       "      <td>0.166667</td>\n",
       "      <td>0.250000</td>\n",
       "      <td>0.000000</td>\n",
       "      <td>1.000000</td>\n",
       "      <td>0.725589</td>\n",
       "      <td>0.204545</td>\n",
       "      <td>1.000000</td>\n",
       "      <td>0.500000</td>\n",
       "    </tr>\n",
       "    <tr>\n",
       "      <th>75%</th>\n",
       "      <td>0.667622</td>\n",
       "      <td>0.914938</td>\n",
       "      <td>0.764317</td>\n",
       "      <td>0.500000</td>\n",
       "      <td>0.416667</td>\n",
       "      <td>0.066667</td>\n",
       "      <td>1.000000</td>\n",
       "      <td>0.875421</td>\n",
       "      <td>0.988636</td>\n",
       "      <td>1.000000</td>\n",
       "      <td>1.000000</td>\n",
       "    </tr>\n",
       "    <tr>\n",
       "      <th>max</th>\n",
       "      <td>1.000000</td>\n",
       "      <td>1.000000</td>\n",
       "      <td>1.000000</td>\n",
       "      <td>1.000000</td>\n",
       "      <td>1.000000</td>\n",
       "      <td>1.000000</td>\n",
       "      <td>1.000000</td>\n",
       "      <td>1.000000</td>\n",
       "      <td>1.000000</td>\n",
       "      <td>1.000000</td>\n",
       "      <td>1.000000</td>\n",
       "    </tr>\n",
       "  </tbody>\n",
       "</table>\n",
       "</div>"
      ],
      "text/plain": [
       "            X1MTHID      X1MTHUTI      X1MTHEFF     X1PAR2EDU   X1FAMINCOME  \\\n",
       "count  21159.000000  18802.000000  18759.000000  12889.000000  16429.000000   \n",
       "mean       0.506601      0.724713      0.652447      0.326208      0.303599   \n",
       "std        0.287608      0.206873      0.219202      0.248146      0.254136   \n",
       "min        0.000000      0.000000      0.000000      0.000000      0.000000   \n",
       "25%        0.332378      0.582988      0.519824      0.166667      0.083333   \n",
       "50%        0.504298      0.665975      0.665198      0.166667      0.250000   \n",
       "75%        0.667622      0.914938      0.764317      0.500000      0.416667   \n",
       "max        1.000000      1.000000      1.000000      1.000000      1.000000   \n",
       "\n",
       "       X1P1RELATION     X1PAR1EMP   X1SCHOOLBEL   X1STU30OCC2       racebin  \\\n",
       "count  16429.000000  16429.000000  20680.000000  21018.000000  21444.000000   \n",
       "mean       0.056644      0.756001      0.744307      0.433003      0.552789   \n",
       "std        0.177614      0.313303      0.169257      0.377249      0.497217   \n",
       "min        0.000000      0.000000      0.000000      0.000000      0.000000   \n",
       "25%        0.000000      0.333333      0.663300      0.181818      0.000000   \n",
       "50%        0.000000      1.000000      0.725589      0.204545      1.000000   \n",
       "75%        0.066667      1.000000      0.875421      0.988636      1.000000   \n",
       "max        1.000000      1.000000      1.000000      1.000000      1.000000   \n",
       "\n",
       "           gradebin  \n",
       "count  21444.000000  \n",
       "mean       0.500000  \n",
       "std        0.500012  \n",
       "min        0.000000  \n",
       "25%        0.000000  \n",
       "50%        0.500000  \n",
       "75%        1.000000  \n",
       "max        1.000000  "
      ]
     },
     "execution_count": 11,
     "metadata": {},
     "output_type": "execute_result"
    }
   ],
   "source": [
    "df_ms = pd.read_pickle('pkl_data/hsls_orig.pkl')\n",
    "\n",
    "sens_attr = 'racebin'\n",
    "privileged_groups = [{'racebin': 1}]\n",
    "unprivileged_groups = [{'racebin': 0}]\n",
    "\n",
    "df_ms.describe()"
   ]
  },
  {
   "cell_type": "markdown",
   "metadata": {},
   "source": [
    "<br/><br/>"
   ]
  },
  {
   "cell_type": "code",
   "execution_count": 12,
   "metadata": {},
   "outputs": [
    {
     "data": {
      "text/markdown": [
       "#### Original-Predicted testing dataset"
      ],
      "text/plain": [
       "<IPython.core.display.Markdown object>"
      ]
     },
     "metadata": {},
     "output_type": "display_data"
    },
    {
     "name": "stdout",
     "output_type": "stream",
     "text": [
      "Difference in FNR between unprivileged and privileged groups\n",
      "0.019972400067591656\n",
      "Overall Test Accuracy \n",
      "0.6496736089524402\n"
     ]
    },
    {
     "data": {
      "text/markdown": [
       "#### Original-Transformed testing dataset"
      ],
      "text/plain": [
       "<IPython.core.display.Markdown object>"
      ]
     },
     "metadata": {},
     "output_type": "display_data"
    },
    {
     "name": "stdout",
     "output_type": "stream",
     "text": [
      "Difference in FNR between unprivileged and privileged groups\n",
      "0.010636300482529393\n",
      "Overall Test Accuracy \n",
      "0.6300901460988498\n",
      "|--- feature_3 <= 0.28\n",
      "|   |--- feature_0 <= 0.58\n",
      "|   |   |--- feature_3 <= 0.15\n",
      "|   |   |   |--- class: 0.0\n",
      "|   |   |--- feature_3 >  0.15\n",
      "|   |   |   |--- class: 0.0\n",
      "|   |--- feature_0 >  0.58\n",
      "|   |   |--- feature_4 <= 0.24\n",
      "|   |   |   |--- class: 0.0\n",
      "|   |   |--- feature_4 >  0.24\n",
      "|   |   |   |--- class: 1.0\n",
      "|--- feature_3 >  0.28\n",
      "|   |--- feature_0 <= 0.34\n",
      "|   |   |--- feature_4 <= 0.38\n",
      "|   |   |   |--- class: 0.0\n",
      "|   |   |--- feature_4 >  0.38\n",
      "|   |   |   |--- class: 1.0\n",
      "|   |--- feature_0 >  0.34\n",
      "|   |   |--- feature_0 <= 0.83\n",
      "|   |   |   |--- class: 1.0\n",
      "|   |   |--- feature_0 >  0.83\n",
      "|   |   |   |--- class: 1.0\n",
      "\n"
     ]
    },
    {
     "data": {
      "text/markdown": [
       "#### Original-Predicted testing dataset"
      ],
      "text/plain": [
       "<IPython.core.display.Markdown object>"
      ]
     },
     "metadata": {},
     "output_type": "display_data"
    },
    {
     "name": "stdout",
     "output_type": "stream",
     "text": [
      "Difference in FNR between unprivileged and privileged groups\n",
      "0.036296436088205375\n",
      "Overall Test Accuracy \n",
      "0.6521603978862294\n"
     ]
    },
    {
     "data": {
      "text/markdown": [
       "#### Original-Transformed testing dataset"
      ],
      "text/plain": [
       "<IPython.core.display.Markdown object>"
      ]
     },
     "metadata": {},
     "output_type": "display_data"
    },
    {
     "name": "stdout",
     "output_type": "stream",
     "text": [
      "Difference in FNR between unprivileged and privileged groups\n",
      "0.00541367861461009\n",
      "Overall Test Accuracy \n",
      "0.6331986322660864\n",
      "|--- feature_3 <= 0.25\n",
      "|   |--- feature_0 <= 0.50\n",
      "|   |   |--- feature_4 <= 0.33\n",
      "|   |   |   |--- class: 0.0\n",
      "|   |   |--- feature_4 >  0.33\n",
      "|   |   |   |--- class: 0.0\n",
      "|   |--- feature_0 >  0.50\n",
      "|   |   |--- feature_3 <= 0.15\n",
      "|   |   |   |--- class: 0.0\n",
      "|   |   |--- feature_3 >  0.15\n",
      "|   |   |   |--- class: 1.0\n",
      "|--- feature_3 >  0.25\n",
      "|   |--- feature_0 <= 0.48\n",
      "|   |   |--- feature_4 <= 0.34\n",
      "|   |   |   |--- class: 0.0\n",
      "|   |   |--- feature_4 >  0.34\n",
      "|   |   |   |--- class: 1.0\n",
      "|   |--- feature_0 >  0.48\n",
      "|   |   |--- feature_4 <= 0.33\n",
      "|   |   |   |--- class: 1.0\n",
      "|   |   |--- feature_4 >  0.33\n",
      "|   |   |   |--- class: 1.0\n",
      "\n"
     ]
    },
    {
     "data": {
      "text/markdown": [
       "#### Original-Predicted testing dataset"
      ],
      "text/plain": [
       "<IPython.core.display.Markdown object>"
      ]
     },
     "metadata": {},
     "output_type": "display_data"
    },
    {
     "name": "stdout",
     "output_type": "stream",
     "text": [
      "Difference in FNR between unprivileged and privileged groups\n",
      "0.01593293698556858\n",
      "Overall Test Accuracy \n",
      "0.6608641591544918\n"
     ]
    },
    {
     "data": {
      "text/markdown": [
       "#### Original-Transformed testing dataset"
      ],
      "text/plain": [
       "<IPython.core.display.Markdown object>"
      ]
     },
     "metadata": {},
     "output_type": "display_data"
    },
    {
     "name": "stdout",
     "output_type": "stream",
     "text": [
      "Difference in FNR between unprivileged and privileged groups\n",
      "0.03509683772841665\n",
      "Overall Test Accuracy \n",
      "0.6537146409698477\n",
      "|--- feature_4 <= 0.33\n",
      "|   |--- feature_5 <= 0.16\n",
      "|   |   |--- feature_0 <= 0.50\n",
      "|   |   |   |--- class: 0.0\n",
      "|   |   |--- feature_0 >  0.50\n",
      "|   |   |   |--- class: 1.0\n",
      "|   |--- feature_5 >  0.16\n",
      "|   |   |--- feature_6 <= 0.97\n",
      "|   |   |   |--- class: 0.0\n",
      "|   |   |--- feature_6 >  0.97\n",
      "|   |   |   |--- class: 0.0\n",
      "|--- feature_4 >  0.33\n",
      "|   |--- feature_0 <= 0.50\n",
      "|   |   |--- feature_2 <= 0.57\n",
      "|   |   |   |--- class: 0.0\n",
      "|   |   |--- feature_2 >  0.57\n",
      "|   |   |   |--- class: 1.0\n",
      "|   |--- feature_0 >  0.50\n",
      "|   |   |--- feature_3 <= 0.22\n",
      "|   |   |   |--- class: 1.0\n",
      "|   |   |--- feature_3 >  0.22\n",
      "|   |   |   |--- class: 1.0\n",
      "\n"
     ]
    },
    {
     "data": {
      "text/markdown": [
       "#### Original-Predicted testing dataset"
      ],
      "text/plain": [
       "<IPython.core.display.Markdown object>"
      ]
     },
     "metadata": {},
     "output_type": "display_data"
    },
    {
     "name": "stdout",
     "output_type": "stream",
     "text": [
      "Difference in FNR between unprivileged and privileged groups\n",
      "0.09326108746495443\n",
      "Overall Test Accuracy \n",
      "0.6474976686353746\n"
     ]
    },
    {
     "data": {
      "text/markdown": [
       "#### Original-Transformed testing dataset"
      ],
      "text/plain": [
       "<IPython.core.display.Markdown object>"
      ]
     },
     "metadata": {},
     "output_type": "display_data"
    },
    {
     "name": "stdout",
     "output_type": "stream",
     "text": [
      "Difference in FNR between unprivileged and privileged groups\n",
      "0.009485901887011705\n",
      "Overall Test Accuracy \n",
      "0.6179670500466273\n",
      "|--- feature_3 <= 0.28\n",
      "|   |--- feature_0 <= 0.50\n",
      "|   |   |--- feature_4 <= 0.33\n",
      "|   |   |   |--- class: 0.0\n",
      "|   |   |--- feature_4 >  0.33\n",
      "|   |   |   |--- class: 0.0\n",
      "|   |--- feature_0 >  0.50\n",
      "|   |   |--- feature_4 <= 0.24\n",
      "|   |   |   |--- class: 0.0\n",
      "|   |   |--- feature_4 >  0.24\n",
      "|   |   |   |--- class: 1.0\n",
      "|--- feature_3 >  0.28\n",
      "|   |--- feature_0 <= 0.49\n",
      "|   |   |--- feature_4 <= 0.31\n",
      "|   |   |   |--- class: 0.0\n",
      "|   |   |--- feature_4 >  0.31\n",
      "|   |   |   |--- class: 1.0\n",
      "|   |--- feature_0 >  0.49\n",
      "|   |   |--- feature_0 <= 0.83\n",
      "|   |   |   |--- class: 1.0\n",
      "|   |   |--- feature_0 >  0.83\n",
      "|   |   |   |--- class: 1.0\n",
      "\n"
     ]
    },
    {
     "data": {
      "text/markdown": [
       "#### Original-Predicted testing dataset"
      ],
      "text/plain": [
       "<IPython.core.display.Markdown object>"
      ]
     },
     "metadata": {},
     "output_type": "display_data"
    },
    {
     "name": "stdout",
     "output_type": "stream",
     "text": [
      "Difference in FNR between unprivileged and privileged groups\n",
      "0.028387837671885296\n",
      "Overall Test Accuracy \n",
      "0.6462542741684799\n"
     ]
    },
    {
     "data": {
      "text/markdown": [
       "#### Original-Transformed testing dataset"
      ],
      "text/plain": [
       "<IPython.core.display.Markdown object>"
      ]
     },
     "metadata": {},
     "output_type": "display_data"
    },
    {
     "name": "stdout",
     "output_type": "stream",
     "text": [
      "Difference in FNR between unprivileged and privileged groups\n",
      "0.02043871207570086\n",
      "Overall Test Accuracy \n",
      "0.6394156046005596\n",
      "|--- feature_3 <= 0.28\n",
      "|   |--- feature_0 <= 0.62\n",
      "|   |   |--- feature_5 <= 0.16\n",
      "|   |   |   |--- class: 0.0\n",
      "|   |   |--- feature_5 >  0.16\n",
      "|   |   |   |--- class: 0.0\n",
      "|   |--- feature_0 >  0.62\n",
      "|   |   |--- feature_5 <= 0.07\n",
      "|   |   |   |--- class: 1.0\n",
      "|   |   |--- feature_5 >  0.07\n",
      "|   |   |   |--- class: 0.0\n",
      "|--- feature_3 >  0.28\n",
      "|   |--- feature_0 <= 0.48\n",
      "|   |   |--- feature_4 <= 0.38\n",
      "|   |   |   |--- class: 0.0\n",
      "|   |   |--- feature_4 >  0.38\n",
      "|   |   |   |--- class: 1.0\n",
      "|   |--- feature_0 >  0.48\n",
      "|   |   |--- feature_5 <= 0.10\n",
      "|   |   |   |--- class: 1.0\n",
      "|   |   |--- feature_5 >  0.10\n",
      "|   |   |   |--- class: 0.0\n",
      "\n"
     ]
    },
    {
     "data": {
      "text/markdown": [
       "#### Original-Predicted testing dataset"
      ],
      "text/plain": [
       "<IPython.core.display.Markdown object>"
      ]
     },
     "metadata": {},
     "output_type": "display_data"
    },
    {
     "name": "stdout",
     "output_type": "stream",
     "text": [
      "Difference in FNR between unprivileged and privileged groups\n",
      "0.02972930632706483\n",
      "Overall Test Accuracy \n",
      "0.6468759714019272\n"
     ]
    },
    {
     "data": {
      "text/markdown": [
       "#### Original-Transformed testing dataset"
      ],
      "text/plain": [
       "<IPython.core.display.Markdown object>"
      ]
     },
     "metadata": {},
     "output_type": "display_data"
    },
    {
     "name": "stdout",
     "output_type": "stream",
     "text": [
      "Difference in FNR between unprivileged and privileged groups\n",
      "0.03182135653626983\n",
      "Overall Test Accuracy \n",
      "0.6471868200186509\n",
      "|--- feature_3 <= 0.25\n",
      "|   |--- feature_0 <= 0.65\n",
      "|   |   |--- feature_3 <= 0.15\n",
      "|   |   |   |--- class: 0.0\n",
      "|   |   |--- feature_3 >  0.15\n",
      "|   |   |   |--- class: 0.0\n",
      "|   |--- feature_0 >  0.65\n",
      "|   |   |--- feature_3 <= 0.15\n",
      "|   |   |   |--- class: 0.0\n",
      "|   |   |--- feature_3 >  0.15\n",
      "|   |   |   |--- class: 1.0\n",
      "|--- feature_3 >  0.25\n",
      "|   |--- feature_0 <= 0.47\n",
      "|   |   |--- feature_4 <= 0.34\n",
      "|   |   |   |--- class: 0.0\n",
      "|   |   |--- feature_4 >  0.34\n",
      "|   |   |   |--- class: 1.0\n",
      "|   |--- feature_0 >  0.47\n",
      "|   |   |--- feature_0 <= 0.69\n",
      "|   |   |   |--- class: 1.0\n",
      "|   |   |--- feature_0 >  0.69\n",
      "|   |   |   |--- class: 1.0\n",
      "\n"
     ]
    },
    {
     "data": {
      "text/markdown": [
       "#### Original-Predicted testing dataset"
      ],
      "text/plain": [
       "<IPython.core.display.Markdown object>"
      ]
     },
     "metadata": {},
     "output_type": "display_data"
    },
    {
     "name": "stdout",
     "output_type": "stream",
     "text": [
      "Difference in FNR between unprivileged and privileged groups\n",
      "0.06219245489338435\n",
      "Overall Test Accuracy \n",
      "0.5878147342244328\n"
     ]
    },
    {
     "data": {
      "text/markdown": [
       "#### Original-Transformed testing dataset"
      ],
      "text/plain": [
       "<IPython.core.display.Markdown object>"
      ]
     },
     "metadata": {},
     "output_type": "display_data"
    },
    {
     "name": "stdout",
     "output_type": "stream",
     "text": [
      "Difference in FNR between unprivileged and privileged groups\n",
      "0.029353471842536893\n",
      "Overall Test Accuracy \n",
      "0.580354367423065\n",
      "|--- feature_4 <= 0.24\n",
      "|   |--- feature_0 <= 0.50\n",
      "|   |   |--- feature_3 <= 0.28\n",
      "|   |   |   |--- class: 0.0\n",
      "|   |   |--- feature_3 >  0.28\n",
      "|   |   |   |--- class: 0.0\n",
      "|   |--- feature_0 >  0.50\n",
      "|   |   |--- feature_5 <= 0.16\n",
      "|   |   |   |--- class: 1.0\n",
      "|   |   |--- feature_5 >  0.16\n",
      "|   |   |   |--- class: 0.0\n",
      "|--- feature_4 >  0.24\n",
      "|   |--- feature_0 <= 0.50\n",
      "|   |   |--- feature_3 <= 0.22\n",
      "|   |   |   |--- class: 0.0\n",
      "|   |   |--- feature_3 >  0.22\n",
      "|   |   |   |--- class: 1.0\n",
      "|   |--- feature_0 >  0.50\n",
      "|   |   |--- feature_3 <= 0.22\n",
      "|   |   |   |--- class: 1.0\n",
      "|   |   |--- feature_3 >  0.22\n",
      "|   |   |   |--- class: 1.0\n",
      "\n"
     ]
    },
    {
     "data": {
      "text/markdown": [
       "#### Original-Predicted testing dataset"
      ],
      "text/plain": [
       "<IPython.core.display.Markdown object>"
      ]
     },
     "metadata": {},
     "output_type": "display_data"
    },
    {
     "name": "stdout",
     "output_type": "stream",
     "text": [
      "Difference in FNR between unprivileged and privileged groups\n",
      "0.031186868686868707\n",
      "Overall Test Accuracy \n",
      "0.6611750077712154\n"
     ]
    },
    {
     "data": {
      "text/markdown": [
       "#### Original-Transformed testing dataset"
      ],
      "text/plain": [
       "<IPython.core.display.Markdown object>"
      ]
     },
     "metadata": {},
     "output_type": "display_data"
    },
    {
     "name": "stdout",
     "output_type": "stream",
     "text": [
      "Difference in FNR between unprivileged and privileged groups\n",
      "0.010227272727272696\n",
      "Overall Test Accuracy \n",
      "0.6437674852346907\n",
      "|--- feature_4 <= 0.33\n",
      "|   |--- feature_0 <= 0.50\n",
      "|   |   |--- feature_3 <= 0.28\n",
      "|   |   |   |--- class: 0.0\n",
      "|   |   |--- feature_3 >  0.28\n",
      "|   |   |   |--- class: 0.0\n",
      "|   |--- feature_0 >  0.50\n",
      "|   |   |--- feature_3 <= 0.15\n",
      "|   |   |   |--- class: 0.0\n",
      "|   |   |--- feature_3 >  0.15\n",
      "|   |   |   |--- class: 1.0\n",
      "|--- feature_4 >  0.33\n",
      "|   |--- feature_0 <= 0.50\n",
      "|   |   |--- feature_3 <= 0.22\n",
      "|   |   |   |--- class: 0.0\n",
      "|   |   |--- feature_3 >  0.22\n",
      "|   |   |   |--- class: 1.0\n",
      "|   |--- feature_0 >  0.50\n",
      "|   |   |--- feature_3 <= 0.18\n",
      "|   |   |   |--- class: 1.0\n",
      "|   |   |--- feature_3 >  0.18\n",
      "|   |   |   |--- class: 1.0\n",
      "\n"
     ]
    },
    {
     "data": {
      "text/markdown": [
       "#### Original-Predicted testing dataset"
      ],
      "text/plain": [
       "<IPython.core.display.Markdown object>"
      ]
     },
     "metadata": {},
     "output_type": "display_data"
    },
    {
     "name": "stdout",
     "output_type": "stream",
     "text": [
      "Difference in FNR between unprivileged and privileged groups\n",
      "0.024484618025969407\n",
      "Overall Test Accuracy \n",
      "0.6537146409698477\n"
     ]
    },
    {
     "data": {
      "text/markdown": [
       "#### Original-Transformed testing dataset"
      ],
      "text/plain": [
       "<IPython.core.display.Markdown object>"
      ]
     },
     "metadata": {},
     "output_type": "display_data"
    },
    {
     "name": "stdout",
     "output_type": "stream",
     "text": [
      "Difference in FNR between unprivileged and privileged groups\n",
      "0.022586511681143562\n",
      "Overall Test Accuracy \n",
      "0.6450108797015853\n",
      "|--- feature_3 <= 0.25\n",
      "|   |--- feature_4 <= 0.24\n",
      "|   |   |--- feature_5 <= 0.16\n",
      "|   |   |   |--- class: 0.0\n",
      "|   |   |--- feature_5 >  0.16\n",
      "|   |   |   |--- class: 0.0\n",
      "|   |--- feature_4 >  0.24\n",
      "|   |   |--- feature_0 <= 0.50\n",
      "|   |   |   |--- class: 0.0\n",
      "|   |   |--- feature_0 >  0.50\n",
      "|   |   |   |--- class: 1.0\n",
      "|--- feature_3 >  0.25\n",
      "|   |--- feature_0 <= 0.48\n",
      "|   |   |--- feature_3 <= 0.48\n",
      "|   |   |   |--- class: 0.0\n",
      "|   |   |--- feature_3 >  0.48\n",
      "|   |   |   |--- class: 1.0\n",
      "|   |--- feature_0 >  0.48\n",
      "|   |   |--- feature_0 <= 0.83\n",
      "|   |   |   |--- class: 1.0\n",
      "|   |   |--- feature_0 >  0.83\n",
      "|   |   |   |--- class: 1.0\n",
      "\n"
     ]
    },
    {
     "data": {
      "text/markdown": [
       "#### Original-Predicted testing dataset"
      ],
      "text/plain": [
       "<IPython.core.display.Markdown object>"
      ]
     },
     "metadata": {},
     "output_type": "display_data"
    },
    {
     "name": "stdout",
     "output_type": "stream",
     "text": [
      "Difference in FNR between unprivileged and privileged groups\n",
      "0.019035105132640756\n",
      "Overall Test Accuracy \n",
      "0.6596207646875971\n"
     ]
    },
    {
     "data": {
      "text/markdown": [
       "#### Original-Transformed testing dataset"
      ],
      "text/plain": [
       "<IPython.core.display.Markdown object>"
      ]
     },
     "metadata": {},
     "output_type": "display_data"
    },
    {
     "name": "stdout",
     "output_type": "stream",
     "text": [
      "Difference in FNR between unprivileged and privileged groups\n",
      "0.024932175030958403\n",
      "Overall Test Accuracy \n",
      "0.6391047559838359\n",
      "|--- feature_3 <= 0.28\n",
      "|   |--- feature_0 <= 0.50\n",
      "|   |   |--- feature_3 <= 0.15\n",
      "|   |   |   |--- class: 0.0\n",
      "|   |   |--- feature_3 >  0.15\n",
      "|   |   |   |--- class: 0.0\n",
      "|   |--- feature_0 >  0.50\n",
      "|   |   |--- feature_3 <= 0.15\n",
      "|   |   |   |--- class: 0.0\n",
      "|   |   |--- feature_3 >  0.15\n",
      "|   |   |   |--- class: 1.0\n",
      "|--- feature_3 >  0.28\n",
      "|   |--- feature_0 <= 0.48\n",
      "|   |   |--- feature_4 <= 0.38\n",
      "|   |   |   |--- class: 0.0\n",
      "|   |   |--- feature_4 >  0.38\n",
      "|   |   |   |--- class: 1.0\n",
      "|   |--- feature_0 >  0.48\n",
      "|   |   |--- feature_5 <= 0.09\n",
      "|   |   |   |--- class: 1.0\n",
      "|   |   |--- feature_5 >  0.09\n",
      "|   |   |   |--- class: 1.0\n",
      "\n"
     ]
    }
   ],
   "source": [
    "fr_list = []\n",
    "acc_list = [] \n",
    "randseed = 42 \n",
    "for seed in range (1, 11): \n",
    "    dataset_orig_train, dataset_orig_vt = train_test_split(df_ms, test_size=0.3, random_state=seed)\n",
    "    \n",
    "    \n",
    "    ## Change the following two lines to get mean or k-nn results ##\n",
    "#     imputer = SimpleImputer()\n",
    "    imputer = KNNImputer()\n",
    "    \n",
    "    imputer.fit(dataset_orig_train)\n",
    "    \n",
    "    dataset_orig_train = pd.DataFrame(imputer.transform(dataset_orig_train), columns=dataset_orig_train.columns, \n",
    "                                      index=dataset_orig_train.index)\n",
    "    vt_imputer = SimpleImputer()\n",
    "    vt_imputer.fit(dataset_orig_train)\n",
    "    dataset_orig_vt = pd.DataFrame(vt_imputer.transform(dataset_orig_vt), columns=dataset_orig_vt.columns, \n",
    "                                      index=dataset_orig_vt.index)\n",
    "    \n",
    "    dataset_orig_valid, dataset_orig_test = train_test_split(dataset_orig_vt, test_size=0.5, random_state=seed)\n",
    "    \n",
    "\n",
    "    ### Converting to AIF360 StandardDataset objects ###\n",
    "    dataset_orig_train = StandardDataset(dataset_orig_train, label_name='gradebin', favorable_classes=[1],\n",
    "                                         protected_attribute_names=['racebin'], privileged_classes=[[1]])\n",
    "    dataset_orig_valid = StandardDataset(dataset_orig_valid, label_name='gradebin', favorable_classes=[1],\n",
    "                                         protected_attribute_names=['racebin'], privileged_classes=[[1]])\n",
    "    dataset_orig_test = StandardDataset(dataset_orig_test, label_name='gradebin', favorable_classes=[1],\n",
    "                                         protected_attribute_names=['racebin'], privileged_classes=[[1]])\n",
    "\n",
    "    # Placeholder for predicted and transformed datasets\n",
    "    dataset_orig_train_pred = dataset_orig_train.copy(deepcopy=True)\n",
    "    dataset_orig_valid_pred = dataset_orig_valid.copy(deepcopy=True)\n",
    "    dataset_orig_test_pred = dataset_orig_test.copy(deepcopy=True)\n",
    "\n",
    "    dataset_new_valid_pred = dataset_orig_valid.copy(deepcopy=True)\n",
    "    dataset_new_test_pred = dataset_orig_test.copy(deepcopy=True)\n",
    "\n",
    "    idx_wo_protected = list(range(9))\n",
    "    X_train = dataset_orig_train.features[:,idx_wo_protected]\n",
    "    y_train = dataset_orig_train.labels.ravel()\n",
    "\n",
    "    X_train.shape\n",
    "    lmod = DecisionTreeClassifier(max_depth=3, random_state=42)\n",
    "\n",
    "    lmod.fit(X_train, y_train)\n",
    "\n",
    "    \n",
    "    fav_idx = np.where(lmod.classes_ == dataset_orig_train.favorable_label)[0][0]\n",
    "    y_train_pred_prob = lmod.predict_proba(X_train)[:,fav_idx]\n",
    "\n",
    "    # Prediction probs for validation and testing data\n",
    "    X_valid = dataset_orig_valid.features[:,idx_wo_protected]\n",
    "    y_valid_pred_prob = lmod.predict_proba(X_valid)[:,fav_idx]\n",
    "\n",
    "    X_test = dataset_orig_test.features[:,idx_wo_protected]\n",
    "    y_test_pred_prob = lmod.predict_proba(X_test)[:,fav_idx]\n",
    "\n",
    "    class_thresh = 0.5\n",
    "    dataset_orig_train_pred.scores = y_train_pred_prob.reshape(-1,1)\n",
    "    dataset_orig_valid_pred.scores = y_valid_pred_prob.reshape(-1,1)\n",
    "    dataset_orig_test_pred.scores = y_test_pred_prob.reshape(-1,1)\n",
    "\n",
    "    y_train_pred = np.zeros_like(dataset_orig_train_pred.labels)\n",
    "    y_train_pred[y_train_pred_prob >= class_thresh] = dataset_orig_train_pred.favorable_label\n",
    "    y_train_pred[~(y_train_pred_prob >= class_thresh)] = dataset_orig_train_pred.unfavorable_label\n",
    "    dataset_orig_train_pred.labels = y_train_pred\n",
    "\n",
    "    y_valid_pred = np.zeros_like(dataset_orig_valid_pred.labels)\n",
    "    y_valid_pred[y_valid_pred_prob >= class_thresh] = dataset_orig_valid_pred.favorable_label\n",
    "    y_valid_pred[~(y_valid_pred_prob >= class_thresh)] = dataset_orig_valid_pred.unfavorable_label\n",
    "    dataset_orig_valid_pred.labels = y_valid_pred\n",
    "\n",
    "    y_test_pred = np.zeros_like(dataset_orig_test_pred.labels)\n",
    "    y_test_pred[y_test_pred_prob >= class_thresh] = dataset_orig_test_pred.favorable_label\n",
    "    y_test_pred[~(y_test_pred_prob >= class_thresh)] = dataset_orig_test_pred.unfavorable_label\n",
    "    dataset_orig_test_pred.labels = y_test_pred\n",
    "\n",
    "    \n",
    "    cpp = EqOddsPostprocessing(privileged_groups = privileged_groups,\n",
    "                                     unprivileged_groups = unprivileged_groups,\n",
    "                                     seed=randseed)\n",
    "    cpp = cpp.fit(dataset_orig_valid, dataset_orig_valid_pred)\n",
    "    \n",
    "    dataset_transf_valid_pred = cpp.predict(dataset_orig_valid_pred)\n",
    "    dataset_transf_test_pred = cpp.predict(dataset_orig_test_pred)\n",
    "    \n",
    "    cm_pred_test = ClassificationMetric(dataset_orig_test, dataset_orig_test_pred,\n",
    "                             unprivileged_groups=unprivileged_groups,\n",
    "                             privileged_groups=privileged_groups)\n",
    "    \n",
    "    display(Markdown(\"#### Original-Predicted testing dataset\"))\n",
    "    print(\"Difference in FNR between unprivileged and privileged groups\")\n",
    "    print(cm_pred_test.difference(cm_pred_test.false_negative_rate))\n",
    "    \n",
    "    print(\"Overall Test Accuracy \")\n",
    "    print(cm_pred_test.accuracy())\n",
    "    \n",
    "    cm_transf_test = ClassificationMetric(dataset_orig_test, dataset_transf_test_pred,\n",
    "                             unprivileged_groups=unprivileged_groups,\n",
    "                             privileged_groups=privileged_groups)\n",
    "    display(Markdown(\"#### Original-Transformed testing dataset\"))\n",
    "    print(\"Difference in FNR between unprivileged and privileged groups\")\n",
    "    fr = np.abs(cm_transf_test.difference(cm_transf_test.false_negative_rate))\n",
    "    fr_list.append(fr)\n",
    "    print(fr)\n",
    "\n",
    "    print(\"Overall Test Accuracy \")\n",
    "    acc = cm_transf_test.accuracy()\n",
    "    acc_list.append(acc)\n",
    "    print(acc)\n",
    "    \n",
    "    text_representation = tree.export_text(lmod)\n",
    "    print(text_representation)\n"
   ]
  },
  {
   "cell_type": "code",
   "execution_count": 13,
   "metadata": {},
   "outputs": [
    {
     "data": {
      "text/plain": [
       "(0.6329810382343799, 0.019937516226935802)"
      ]
     },
     "execution_count": 13,
     "metadata": {},
     "output_type": "execute_result"
    }
   ],
   "source": [
    "np.array(acc_list).mean(), np.array(acc_list).std()"
   ]
  },
  {
   "cell_type": "code",
   "execution_count": 14,
   "metadata": {},
   "outputs": [
    {
     "data": {
      "text/plain": [
       "(0.019999221860645008, 0.00996417266207264)"
      ]
     },
     "execution_count": 14,
     "metadata": {},
     "output_type": "execute_result"
    }
   ],
   "source": [
    "np.array(fr_list).mean(), np.array(fr_list).std()"
   ]
  },
  {
   "cell_type": "code",
   "execution_count": 7,
   "metadata": {},
   "outputs": [],
   "source": [
    "acc_mean = [np.array(acc_list).mean()]\n",
    "acc_std = [np.array(acc_list).std()]\n",
    "fr_mean = [np.array(fr_list).mean()]\n",
    "fr_std = [np.array(fr_list).std()]"
   ]
  },
  {
   "cell_type": "code",
   "execution_count": 8,
   "metadata": {},
   "outputs": [],
   "source": [
    "with open('knn_eqodds_result.pkl', 'wb+') as f: \n",
    "    pickle.dump({'fr_mean': fr_mean, 'fr_std': fr_std, 'acc_mean': acc_mean, 'acc_std': acc_std}, f)"
   ]
  },
  {
   "cell_type": "code",
   "execution_count": null,
   "metadata": {},
   "outputs": [],
   "source": []
  }
 ],
 "metadata": {
  "kernelspec": {
   "display_name": "Python 3",
   "language": "python",
   "name": "python3"
  },
  "language_info": {
   "codemirror_mode": {
    "name": "ipython",
    "version": 3
   },
   "file_extension": ".py",
   "mimetype": "text/x-python",
   "name": "python",
   "nbconvert_exporter": "python",
   "pygments_lexer": "ipython3",
   "version": "3.8.5"
  }
 },
 "nbformat": 4,
 "nbformat_minor": 4
}
