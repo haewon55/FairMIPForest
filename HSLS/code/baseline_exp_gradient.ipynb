{
 "cells": [
  {
   "cell_type": "markdown",
   "metadata": {},
   "source": [
    "# [HSLS] Exponentiated Gradiet Reduction"
   ]
  },
  {
   "cell_type": "code",
   "execution_count": null,
   "metadata": {},
   "outputs": [],
   "source": [
    "%matplotlib inline\n",
    "# Load all necessary packages\n",
    "import sys\n",
    "sys.path.append(\"../\")\n",
    "cwd = '../../../core'\n",
    "sys.path.append(cwd)\n",
    "\n",
    "from aif360.datasets import BinaryLabelDataset\n",
    "from aif360.datasets import AdultDataset, GermanDataset, CompasDataset, StandardDataset\n",
    "from aif360.metrics import BinaryLabelDatasetMetric, ClassificationMetric\n",
    "from aif360.metrics import ClassificationMetric\n",
    "from aif360.metrics.utils import compute_boolean_conditioning_vector\n",
    "\n",
    "from aif360.algorithms.preprocessing.optim_preproc_helpers.data_preproc_functions import load_preproc_data_adult, load_preproc_data_compas, load_preproc_data_german\n",
    "\n",
    "from aif360.algorithms.inprocessing.exponentiated_gradient_reduction import ExponentiatedGradientReduction\n",
    "\n",
    "from sklearn.linear_model import LogisticRegression\n",
    "from sklearn.preprocessing import StandardScaler, MaxAbsScaler\n",
    "from sklearn.metrics import accuracy_score\n",
    "\n",
    "from IPython.display import Markdown, display\n",
    "import matplotlib.pyplot as plt\n",
    "\n",
    "import numpy as np\n",
    "import pandas as pd\n",
    "\n",
    "from sklearn.tree import DecisionTreeClassifier\n",
    "from sklearn.ensemble import RandomForestClassifier\n",
    "from sklearn.model_selection import train_test_split, KFold\n",
    "from sklearn.impute import KNNImputer, SimpleImputer\n",
    "\n",
    "from IPython.display import Markdown, display\n",
    "import matplotlib.pyplot as plt\n",
    "\n",
    "\n",
    "from missing_module import * \n",
    "\n",
    "pd.set_option('display.max_rows', None)\n",
    "pd.set_option('display.max_columns', None)\n",
    "pd.set_option('display.max_colwidth', None)\n",
    "pd.set_option('display.width', None)\n",
    "pd.set_option('display.max_colwidth', None)\n",
    "np.set_printoptions(threshold=np.inf)\n",
    "\n",
    "\n",
    "\n",
    "\n",
    "\n"
   ]
  },
  {
   "cell_type": "markdown",
   "metadata": {},
   "source": [
    "### Open data file"
   ]
  },
  {
   "cell_type": "code",
   "execution_count": null,
   "metadata": {},
   "outputs": [],
   "source": [
    "df_ms = pd.read_pickle('pkl_data/hsls_orig.pkl')\n",
    "\n",
    "sens_attr = 'racebin'\n",
    "privileged_groups = [{'racebin': 1}]\n",
    "unprivileged_groups = [{'racebin': 0}]\n",
    "\n",
    "df_ms.describe()"
   ]
  },
  {
   "cell_type": "code",
   "execution_count": null,
   "metadata": {
    "tags": []
   },
   "outputs": [],
   "source": [
    "eps_list = [0.001, 0.005, 0.01, 0.02, 0.05, 0.1]\n",
    "\n",
    "fr_mean, acc_mean, fr_std, acc_std = [], [], [], [] \n",
    "\n",
    "\n",
    "for eps in eps_list: \n",
    "    fr_list = []\n",
    "    acc_list = [] \n",
    "    display(Markdown(\"# Epsilon =\"+str(eps)))\n",
    "    for seed in range (1, 11): \n",
    "        \n",
    "        dataset_orig_train, dataset_orig_test = train_test_split(df_ms, test_size=0.3, random_state=seed)\n",
    "\n",
    "        dataset_orig_train_no_sens = dataset_orig_train.drop(columns=['racebin','gradebin'])\n",
    "        dataset_orig_test_no_sens = dataset_orig_test.drop(columns=['racebin','gradebin'])\n",
    "\n",
    "        ## Change the following two lines to get mean or k-nn results ##\n",
    "#         imputer = SimpleImputer()\n",
    "        imputer = KNNImputer()\n",
    "\n",
    "        dataset_orig_train_no_sens = pd.DataFrame(imputer.fit_transform(dataset_orig_train_no_sens), \n",
    "                                                  columns=dataset_orig_train_no_sens.columns, \n",
    "                                                  index=dataset_orig_train_no_sens.index)\n",
    "        dataset_orig_test_no_sens = pd.DataFrame(imputer.transform(dataset_orig_test_no_sens), \n",
    "                                                 columns=dataset_orig_test_no_sens.columns, \n",
    "                                                 index=dataset_orig_test_no_sens.index)\n",
    "        dataset_orig_train = pd.concat([dataset_orig_train_no_sens, dataset_orig_train[['racebin','gradebin']]], axis=1)\n",
    "        dataset_orig_test = pd.concat([dataset_orig_test_no_sens, dataset_orig_test[['racebin','gradebin']]], axis=1)\n",
    "\n",
    "\n",
    "    \n",
    "    \n",
    "\n",
    "        ### Converting to AIF360 StandardDataset objects ###\n",
    "        dataset_orig_train = StandardDataset(dataset_orig_train, label_name='gradebin', favorable_classes=[1],\n",
    "                                             protected_attribute_names=['racebin'], privileged_classes=[[1]])\n",
    "        dataset_orig_test = StandardDataset(dataset_orig_test, label_name='gradebin', favorable_classes=[1],\n",
    "                                             protected_attribute_names=['racebin'], privileged_classes=[[1]])\n",
    "\n",
    "        idx_wo_protected = list(range(9))\n",
    "        X_train = dataset_orig_train.features[:,idx_wo_protected]\n",
    "        y_train = dataset_orig_train.labels.ravel()\n",
    "\n",
    "        lmod = DecisionTreeClassifier(random_state=42, max_depth=4)\n",
    "        lmod.fit(X_train, y_train, sample_weight=dataset_orig_train.instance_weights)\n",
    "\n",
    "        X_test = dataset_orig_test.features[:,idx_wo_protected]\n",
    "        y_test = dataset_orig_test.labels.ravel()\n",
    "\n",
    "        y_pred = lmod.predict(X_test)\n",
    "\n",
    "        dataset_orig_test_pred = dataset_orig_test.copy(deepcopy=True)\n",
    "        dataset_orig_test_pred.labels = y_pred\n",
    "\n",
    "        cm_pred_test = ClassificationMetric(dataset_orig_test, dataset_orig_test_pred,\n",
    "                                 unprivileged_groups=unprivileged_groups,\n",
    "                                 privileged_groups=privileged_groups)\n",
    "\n",
    "        display(Markdown(\"#### Original-Predicted testing dataset\"))\n",
    "        print(\"Difference in FNR between unprivileged and privileged groups\")\n",
    "        print(cm_pred_test.difference(cm_pred_test.false_negative_rate))\n",
    "\n",
    "        print(\"Overall Test Accuracy \")\n",
    "        print(cm_pred_test.accuracy())\n",
    "\n",
    "        estimator = DecisionTreeClassifier(max_depth=3)\n",
    "\n",
    "        np.random.seed(0)\n",
    "        exp_grad_red = ExponentiatedGradientReduction(estimator=estimator, \n",
    "                                                  constraints=\"TruePositiveRateDifference\",\n",
    "                                                  drop_prot_attr=False, eps=eps)\n",
    "        exp_grad_red.fit(dataset_orig_train)\n",
    "        exp_grad_red_pred = exp_grad_red.predict(dataset_orig_test)\n",
    "\n",
    "        cm_transf_test = ClassificationMetric(dataset_orig_test, exp_grad_red_pred,\n",
    "                                        unprivileged_groups=unprivileged_groups,\n",
    "                                        privileged_groups=privileged_groups)\n",
    "        display(Markdown(\"#### Original-Transformed testing dataset\"))\n",
    "        print(\"Difference in FNR between unprivileged and privileged groups\")\n",
    "        fr = np.abs(cm_transf_test.difference(cm_transf_test.false_negative_rate))\n",
    "        fr_list.append(fr)\n",
    "        print(fr)\n",
    "\n",
    "        print(\"Overall Test Accuracy \")\n",
    "        acc = cm_transf_test.accuracy()\n",
    "        acc_list.append(acc)\n",
    "        print(acc)\n",
    "        \n",
    "    fr_mean.append(np.mean(fr_list))\n",
    "    fr_std.append(np.std(fr_list))\n",
    "    acc_mean.append(np.mean(acc_list))\n",
    "    acc_std.append(np.std(acc_list))\n",
    "    \n",
    "    \n",
    "    \n",
    "    \n",
    "    "
   ]
  },
  {
   "cell_type": "code",
   "execution_count": null,
   "metadata": {},
   "outputs": [],
   "source": [
    "plt.errorbar(fr_mean, acc_mean, xerr =fr_std, yerr=acc_std, fmt=\"o\", color='green')"
   ]
  },
  {
   "cell_type": "code",
   "execution_count": null,
   "metadata": {
    "tags": []
   },
   "outputs": [],
   "source": [
    "plt.errorbar(fr_mean, acc_mean, xerr =fr_std, yerr=acc_std, fmt=\"o\", color='green')"
   ]
  },
  {
   "cell_type": "code",
   "execution_count": null,
   "metadata": {},
   "outputs": [],
   "source": [
    "plt.errorbar(fr_mean, acc_mean, xerr =fr_std, yerr=acc_std, fmt=\"o\", color='green')"
   ]
  },
  {
   "cell_type": "code",
   "execution_count": null,
   "metadata": {},
   "outputs": [],
   "source": [
    "with open('knn_exp_grad_result.pkl', 'wb+') as f: \n",
    "    pickle.dump({'fr_mean': fr_mean, 'fr_std': fr_std, 'acc_mean': acc_mean, 'acc_std': acc_std}, f)"
   ]
  },
  {
   "cell_type": "code",
   "execution_count": null,
   "metadata": {},
   "outputs": [],
   "source": []
  }
 ],
 "metadata": {
  "kernelspec": {
   "display_name": "Python 3",
   "language": "python",
   "name": "python3"
  },
  "language_info": {
   "codemirror_mode": {
    "name": "ipython",
    "version": 3
   },
   "file_extension": ".py",
   "mimetype": "text/x-python",
   "name": "python",
   "nbconvert_exporter": "python",
   "pygments_lexer": "ipython3",
   "version": "3.8.5"
  }
 },
 "nbformat": 4,
 "nbformat_minor": 4
}
